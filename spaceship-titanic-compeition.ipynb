{
 "cells": [
  {
   "cell_type": "markdown",
   "id": "595e4b75",
   "metadata": {
    "papermill": {
     "duration": 0.01683,
     "end_time": "2022-09-02T15:51:39.893561",
     "exception": false,
     "start_time": "2022-09-02T15:51:39.876731",
     "status": "completed"
    },
    "tags": []
   },
   "source": [
    "## Importing required libraries"
   ]
  },
  {
   "cell_type": "code",
   "execution_count": 1,
   "id": "ce6c623d",
   "metadata": {
    "execution": {
     "iopub.execute_input": "2022-09-02T15:51:39.926736Z",
     "iopub.status.busy": "2022-09-02T15:51:39.925859Z",
     "iopub.status.idle": "2022-09-02T15:51:41.327100Z",
     "shell.execute_reply": "2022-09-02T15:51:41.325905Z"
    },
    "papermill": {
     "duration": 1.421026,
     "end_time": "2022-09-02T15:51:41.330070",
     "exception": false,
     "start_time": "2022-09-02T15:51:39.909044",
     "status": "completed"
    },
    "tags": []
   },
   "outputs": [],
   "source": [
    "import os\n",
    "import random\n",
    "import numpy as np\n",
    "import pandas as pd\n",
    "import seaborn as sns\n",
    "import matplotlib.pyplot as plt\n",
    "from xgboost import XGBClassifier\n",
    "from sklearn.preprocessing import StandardScaler\n",
    "from sklearn.neighbors import KNeighborsClassifier\n",
    "from sklearn.ensemble import RandomForestClassifier\n",
    "from sklearn.linear_model import LogisticRegression\n",
    "from sklearn.model_selection import train_test_split, GridSearchCV\n",
    "from sklearn.metrics import accuracy_score, classification_report, roc_auc_score\n",
    "\n",
    "plt.style.use(\"ggplot\")\n",
    "sns.set_style(\"darkgrid\")"
   ]
  },
  {
   "cell_type": "code",
   "execution_count": 2,
   "id": "110cd1a1",
   "metadata": {
    "execution": {
     "iopub.execute_input": "2022-09-02T15:51:41.364687Z",
     "iopub.status.busy": "2022-09-02T15:51:41.363659Z",
     "iopub.status.idle": "2022-09-02T15:51:41.429331Z",
     "shell.execute_reply": "2022-09-02T15:51:41.428049Z"
    },
    "papermill": {
     "duration": 0.086131,
     "end_time": "2022-09-02T15:51:41.432403",
     "exception": false,
     "start_time": "2022-09-02T15:51:41.346272",
     "status": "completed"
    },
    "tags": []
   },
   "outputs": [],
   "source": [
    "data = pd.read_csv(\"../input/training/preprocessed_data.csv\")\n",
    "test_data = pd.read_csv(\"../input/spaceship-titanic/test.csv\")"
   ]
  },
  {
   "cell_type": "markdown",
   "id": "e4b79de8",
   "metadata": {
    "papermill": {
     "duration": 0.015956,
     "end_time": "2022-09-02T15:51:41.464755",
     "exception": false,
     "start_time": "2022-09-02T15:51:41.448799",
     "status": "completed"
    },
    "tags": []
   },
   "source": [
    "## Checking Outliers"
   ]
  },
  {
   "cell_type": "code",
   "execution_count": 3,
   "id": "5f0a3fc2",
   "metadata": {
    "execution": {
     "iopub.execute_input": "2022-09-02T15:51:41.501626Z",
     "iopub.status.busy": "2022-09-02T15:51:41.500437Z",
     "iopub.status.idle": "2022-09-02T15:51:41.533964Z",
     "shell.execute_reply": "2022-09-02T15:51:41.532920Z"
    },
    "papermill": {
     "duration": 0.054568,
     "end_time": "2022-09-02T15:51:41.536412",
     "exception": false,
     "start_time": "2022-09-02T15:51:41.481844",
     "status": "completed"
    },
    "tags": []
   },
   "outputs": [
    {
     "data": {
      "text/html": [
       "<div>\n",
       "<style scoped>\n",
       "    .dataframe tbody tr th:only-of-type {\n",
       "        vertical-align: middle;\n",
       "    }\n",
       "\n",
       "    .dataframe tbody tr th {\n",
       "        vertical-align: top;\n",
       "    }\n",
       "\n",
       "    .dataframe thead th {\n",
       "        text-align: right;\n",
       "    }\n",
       "</style>\n",
       "<table border=\"1\" class=\"dataframe\">\n",
       "  <thead>\n",
       "    <tr style=\"text-align: right;\">\n",
       "      <th></th>\n",
       "      <th>CryoSleep</th>\n",
       "      <th>Age</th>\n",
       "      <th>VIP</th>\n",
       "      <th>RoomService</th>\n",
       "      <th>FoodCourt</th>\n",
       "      <th>ShoppingMall</th>\n",
       "      <th>Spa</th>\n",
       "      <th>VRDeck</th>\n",
       "      <th>HomePlanet_Earth</th>\n",
       "      <th>HomePlanet_Europa</th>\n",
       "      <th>...</th>\n",
       "      <th>Cabin_deck_B</th>\n",
       "      <th>Cabin_deck_C</th>\n",
       "      <th>Cabin_deck_D</th>\n",
       "      <th>Cabin_deck_E</th>\n",
       "      <th>Cabin_deck_F</th>\n",
       "      <th>Cabin_deck_G</th>\n",
       "      <th>Cabin_deck_T</th>\n",
       "      <th>Cabin_side_P</th>\n",
       "      <th>Cabin_side_S</th>\n",
       "      <th>Transported</th>\n",
       "    </tr>\n",
       "  </thead>\n",
       "  <tbody>\n",
       "    <tr>\n",
       "      <th>0</th>\n",
       "      <td>0</td>\n",
       "      <td>39.0</td>\n",
       "      <td>0</td>\n",
       "      <td>0.0</td>\n",
       "      <td>0.0</td>\n",
       "      <td>0.0</td>\n",
       "      <td>0.0</td>\n",
       "      <td>0.0</td>\n",
       "      <td>0</td>\n",
       "      <td>1</td>\n",
       "      <td>...</td>\n",
       "      <td>1</td>\n",
       "      <td>0</td>\n",
       "      <td>0</td>\n",
       "      <td>0</td>\n",
       "      <td>0</td>\n",
       "      <td>0</td>\n",
       "      <td>0</td>\n",
       "      <td>1</td>\n",
       "      <td>0</td>\n",
       "      <td>0</td>\n",
       "    </tr>\n",
       "    <tr>\n",
       "      <th>1</th>\n",
       "      <td>0</td>\n",
       "      <td>24.0</td>\n",
       "      <td>0</td>\n",
       "      <td>109.0</td>\n",
       "      <td>9.0</td>\n",
       "      <td>25.0</td>\n",
       "      <td>549.0</td>\n",
       "      <td>44.0</td>\n",
       "      <td>1</td>\n",
       "      <td>0</td>\n",
       "      <td>...</td>\n",
       "      <td>0</td>\n",
       "      <td>0</td>\n",
       "      <td>0</td>\n",
       "      <td>0</td>\n",
       "      <td>1</td>\n",
       "      <td>0</td>\n",
       "      <td>0</td>\n",
       "      <td>0</td>\n",
       "      <td>1</td>\n",
       "      <td>1</td>\n",
       "    </tr>\n",
       "    <tr>\n",
       "      <th>2</th>\n",
       "      <td>0</td>\n",
       "      <td>58.0</td>\n",
       "      <td>1</td>\n",
       "      <td>43.0</td>\n",
       "      <td>3576.0</td>\n",
       "      <td>0.0</td>\n",
       "      <td>6715.0</td>\n",
       "      <td>49.0</td>\n",
       "      <td>0</td>\n",
       "      <td>1</td>\n",
       "      <td>...</td>\n",
       "      <td>0</td>\n",
       "      <td>0</td>\n",
       "      <td>0</td>\n",
       "      <td>0</td>\n",
       "      <td>0</td>\n",
       "      <td>0</td>\n",
       "      <td>0</td>\n",
       "      <td>0</td>\n",
       "      <td>1</td>\n",
       "      <td>0</td>\n",
       "    </tr>\n",
       "    <tr>\n",
       "      <th>3</th>\n",
       "      <td>0</td>\n",
       "      <td>33.0</td>\n",
       "      <td>0</td>\n",
       "      <td>0.0</td>\n",
       "      <td>1283.0</td>\n",
       "      <td>371.0</td>\n",
       "      <td>3329.0</td>\n",
       "      <td>193.0</td>\n",
       "      <td>0</td>\n",
       "      <td>1</td>\n",
       "      <td>...</td>\n",
       "      <td>0</td>\n",
       "      <td>0</td>\n",
       "      <td>0</td>\n",
       "      <td>0</td>\n",
       "      <td>0</td>\n",
       "      <td>0</td>\n",
       "      <td>0</td>\n",
       "      <td>0</td>\n",
       "      <td>1</td>\n",
       "      <td>0</td>\n",
       "    </tr>\n",
       "    <tr>\n",
       "      <th>4</th>\n",
       "      <td>0</td>\n",
       "      <td>16.0</td>\n",
       "      <td>0</td>\n",
       "      <td>303.0</td>\n",
       "      <td>70.0</td>\n",
       "      <td>151.0</td>\n",
       "      <td>565.0</td>\n",
       "      <td>2.0</td>\n",
       "      <td>1</td>\n",
       "      <td>0</td>\n",
       "      <td>...</td>\n",
       "      <td>0</td>\n",
       "      <td>0</td>\n",
       "      <td>0</td>\n",
       "      <td>0</td>\n",
       "      <td>1</td>\n",
       "      <td>0</td>\n",
       "      <td>0</td>\n",
       "      <td>0</td>\n",
       "      <td>1</td>\n",
       "      <td>1</td>\n",
       "    </tr>\n",
       "  </tbody>\n",
       "</table>\n",
       "<p>5 rows × 27 columns</p>\n",
       "</div>"
      ],
      "text/plain": [
       "   CryoSleep   Age  VIP  RoomService  FoodCourt  ShoppingMall     Spa  VRDeck  \\\n",
       "0          0  39.0    0          0.0        0.0           0.0     0.0     0.0   \n",
       "1          0  24.0    0        109.0        9.0          25.0   549.0    44.0   \n",
       "2          0  58.0    1         43.0     3576.0           0.0  6715.0    49.0   \n",
       "3          0  33.0    0          0.0     1283.0         371.0  3329.0   193.0   \n",
       "4          0  16.0    0        303.0       70.0         151.0   565.0     2.0   \n",
       "\n",
       "   HomePlanet_Earth  HomePlanet_Europa  ...  Cabin_deck_B  Cabin_deck_C  \\\n",
       "0                 0                  1  ...             1             0   \n",
       "1                 1                  0  ...             0             0   \n",
       "2                 0                  1  ...             0             0   \n",
       "3                 0                  1  ...             0             0   \n",
       "4                 1                  0  ...             0             0   \n",
       "\n",
       "   Cabin_deck_D  Cabin_deck_E  Cabin_deck_F  Cabin_deck_G  Cabin_deck_T  \\\n",
       "0             0             0             0             0             0   \n",
       "1             0             0             1             0             0   \n",
       "2             0             0             0             0             0   \n",
       "3             0             0             0             0             0   \n",
       "4             0             0             1             0             0   \n",
       "\n",
       "   Cabin_side_P  Cabin_side_S  Transported  \n",
       "0             1             0            0  \n",
       "1             0             1            1  \n",
       "2             0             1            0  \n",
       "3             0             1            0  \n",
       "4             0             1            1  \n",
       "\n",
       "[5 rows x 27 columns]"
      ]
     },
     "execution_count": 3,
     "metadata": {},
     "output_type": "execute_result"
    }
   ],
   "source": [
    "data.head()"
   ]
  },
  {
   "cell_type": "code",
   "execution_count": 4,
   "id": "2cfd0fc5",
   "metadata": {
    "execution": {
     "iopub.execute_input": "2022-09-02T15:51:41.571043Z",
     "iopub.status.busy": "2022-09-02T15:51:41.570740Z",
     "iopub.status.idle": "2022-09-02T15:51:42.377848Z",
     "shell.execute_reply": "2022-09-02T15:51:42.376769Z"
    },
    "papermill": {
     "duration": 0.826976,
     "end_time": "2022-09-02T15:51:42.380287",
     "exception": false,
     "start_time": "2022-09-02T15:51:41.553311",
     "status": "completed"
    },
    "tags": []
   },
   "outputs": [
    {
     "data": {
      "text/plain": [
       "<AxesSubplot:xlabel='Expenses', ylabel='Age'>"
      ]
     },
     "execution_count": 4,
     "metadata": {},
     "output_type": "execute_result"
    },
    {
     "data": {
      "image/png": "[encoded data removed]",
      "text/plain": [
       "<Figure size 720x432 with 1 Axes>"
      ]
     },
     "metadata": {},
     "output_type": "display_data"
    }
   ],
   "source": [
    "plt.figure(figsize=(10, 6))\n",
    "sns.scatterplot(x=\"Expenses\", y=\"Age\", data=data, hue=\"Transported\")"
   ]
  },
  {
   "cell_type": "code",
   "execution_count": 5,
   "id": "e1290d10",
   "metadata": {
    "execution": {
     "iopub.execute_input": "2022-09-02T15:51:42.418690Z",
     "iopub.status.busy": "2022-09-02T15:51:42.418343Z",
     "iopub.status.idle": "2022-09-02T15:51:42.721138Z",
     "shell.execute_reply": "2022-09-02T15:51:42.719632Z"
    },
    "papermill": {
     "duration": 0.325654,
     "end_time": "2022-09-02T15:51:42.724501",
     "exception": false,
     "start_time": "2022-09-02T15:51:42.398847",
     "status": "completed"
    },
    "tags": []
   },
   "outputs": [
    {
     "data": {
      "text/plain": [
       "<AxesSubplot:xlabel='Transported', ylabel='Age'>"
      ]
     },
     "execution_count": 5,
     "metadata": {},
     "output_type": "execute_result"
    },
    {
     "data": {
      "image/png": "[encoded data removed]",
      "text/plain": [
       "<Figure size 432x288 with 1 Axes>"
      ]
     },
     "metadata": {},
     "output_type": "display_data"
    }
   ],
   "source": [
    "sns.boxplot(x=data[\"Transported\"], y=data[\"Age\"])"
   ]
  },
  {
   "cell_type": "markdown",
   "id": "83240418",
   "metadata": {
    "papermill": {
     "duration": 0.033985,
     "end_time": "2022-09-02T15:51:42.803892",
     "exception": false,
     "start_time": "2022-09-02T15:51:42.769907",
     "status": "completed"
    },
    "tags": []
   },
   "source": [
    "#### Outliers from data_cleaning IQR"
   ]
  },
  {
   "cell_type": "code",
   "execution_count": 6,
   "id": "bb814f4a",
   "metadata": {
    "execution": {
     "iopub.execute_input": "2022-09-02T15:51:42.868595Z",
     "iopub.status.busy": "2022-09-02T15:51:42.868197Z",
     "iopub.status.idle": "2022-09-02T15:51:42.873671Z",
     "shell.execute_reply": "2022-09-02T15:51:42.872626Z"
    },
    "papermill": {
     "duration": 0.040819,
     "end_time": "2022-09-02T15:51:42.876666",
     "exception": false,
     "start_time": "2022-09-02T15:51:42.835847",
     "status": "completed"
    },
    "tags": []
   },
   "outputs": [],
   "source": [
    "false_age_outlier = 63.5\n",
    "true_age_outlier = 65.5"
   ]
  },
  {
   "cell_type": "code",
   "execution_count": 7,
   "id": "2d084939",
   "metadata": {
    "execution": {
     "iopub.execute_input": "2022-09-02T15:51:42.946965Z",
     "iopub.status.busy": "2022-09-02T15:51:42.946604Z",
     "iopub.status.idle": "2022-09-02T15:51:42.953155Z",
     "shell.execute_reply": "2022-09-02T15:51:42.952114Z"
    },
    "papermill": {
     "duration": 0.044562,
     "end_time": "2022-09-02T15:51:42.956035",
     "exception": false,
     "start_time": "2022-09-02T15:51:42.911473",
     "status": "completed"
    },
    "tags": []
   },
   "outputs": [],
   "source": [
    "data2 = data.copy(deep=True)"
   ]
  },
  {
   "cell_type": "markdown",
   "id": "4a5e5b96",
   "metadata": {
    "papermill": {
     "duration": 0.032135,
     "end_time": "2022-09-02T15:51:43.020045",
     "exception": false,
     "start_time": "2022-09-02T15:51:42.987910",
     "status": "completed"
    },
    "tags": []
   },
   "source": [
    "#### Imputing Outliers of Age on data2 with their Median Age"
   ]
  },
  {
   "cell_type": "code",
   "execution_count": 8,
   "id": "c7bcc923",
   "metadata": {
    "execution": {
     "iopub.execute_input": "2022-09-02T15:51:43.088827Z",
     "iopub.status.busy": "2022-09-02T15:51:43.087972Z",
     "iopub.status.idle": "2022-09-02T15:51:43.119166Z",
     "shell.execute_reply": "2022-09-02T15:51:43.117885Z"
    },
    "papermill": {
     "duration": 0.069588,
     "end_time": "2022-09-02T15:51:43.122223",
     "exception": false,
     "start_time": "2022-09-02T15:51:43.052635",
     "status": "completed"
    },
    "tags": []
   },
   "outputs": [
    {
     "data": {
      "text/html": [
       "<div>\n",
       "<style scoped>\n",
       "    .dataframe tbody tr th:only-of-type {\n",
       "        vertical-align: middle;\n",
       "    }\n",
       "\n",
       "    .dataframe tbody tr th {\n",
       "        vertical-align: top;\n",
       "    }\n",
       "\n",
       "    .dataframe thead th {\n",
       "        text-align: right;\n",
       "    }\n",
       "</style>\n",
       "<table border=\"1\" class=\"dataframe\">\n",
       "  <thead>\n",
       "    <tr style=\"text-align: right;\">\n",
       "      <th></th>\n",
       "      <th>CryoSleep</th>\n",
       "      <th>Age</th>\n",
       "      <th>VIP</th>\n",
       "      <th>RoomService</th>\n",
       "      <th>FoodCourt</th>\n",
       "      <th>ShoppingMall</th>\n",
       "      <th>Spa</th>\n",
       "      <th>VRDeck</th>\n",
       "      <th>HomePlanet_Earth</th>\n",
       "      <th>HomePlanet_Europa</th>\n",
       "      <th>...</th>\n",
       "      <th>Cabin_deck_B</th>\n",
       "      <th>Cabin_deck_C</th>\n",
       "      <th>Cabin_deck_D</th>\n",
       "      <th>Cabin_deck_E</th>\n",
       "      <th>Cabin_deck_F</th>\n",
       "      <th>Cabin_deck_G</th>\n",
       "      <th>Cabin_deck_T</th>\n",
       "      <th>Cabin_side_P</th>\n",
       "      <th>Cabin_side_S</th>\n",
       "      <th>Transported</th>\n",
       "    </tr>\n",
       "  </thead>\n",
       "  <tbody>\n",
       "    <tr>\n",
       "      <th>0</th>\n",
       "      <td>0</td>\n",
       "      <td>39.0</td>\n",
       "      <td>0</td>\n",
       "      <td>0.0</td>\n",
       "      <td>0.0</td>\n",
       "      <td>0.0</td>\n",
       "      <td>0.0</td>\n",
       "      <td>0.0</td>\n",
       "      <td>0</td>\n",
       "      <td>1</td>\n",
       "      <td>...</td>\n",
       "      <td>1</td>\n",
       "      <td>0</td>\n",
       "      <td>0</td>\n",
       "      <td>0</td>\n",
       "      <td>0</td>\n",
       "      <td>0</td>\n",
       "      <td>0</td>\n",
       "      <td>1</td>\n",
       "      <td>0</td>\n",
       "      <td>0</td>\n",
       "    </tr>\n",
       "    <tr>\n",
       "      <th>1</th>\n",
       "      <td>0</td>\n",
       "      <td>24.0</td>\n",
       "      <td>0</td>\n",
       "      <td>109.0</td>\n",
       "      <td>9.0</td>\n",
       "      <td>25.0</td>\n",
       "      <td>549.0</td>\n",
       "      <td>44.0</td>\n",
       "      <td>1</td>\n",
       "      <td>0</td>\n",
       "      <td>...</td>\n",
       "      <td>0</td>\n",
       "      <td>0</td>\n",
       "      <td>0</td>\n",
       "      <td>0</td>\n",
       "      <td>1</td>\n",
       "      <td>0</td>\n",
       "      <td>0</td>\n",
       "      <td>0</td>\n",
       "      <td>1</td>\n",
       "      <td>1</td>\n",
       "    </tr>\n",
       "    <tr>\n",
       "      <th>2</th>\n",
       "      <td>0</td>\n",
       "      <td>58.0</td>\n",
       "      <td>1</td>\n",
       "      <td>43.0</td>\n",
       "      <td>3576.0</td>\n",
       "      <td>0.0</td>\n",
       "      <td>6715.0</td>\n",
       "      <td>49.0</td>\n",
       "      <td>0</td>\n",
       "      <td>1</td>\n",
       "      <td>...</td>\n",
       "      <td>0</td>\n",
       "      <td>0</td>\n",
       "      <td>0</td>\n",
       "      <td>0</td>\n",
       "      <td>0</td>\n",
       "      <td>0</td>\n",
       "      <td>0</td>\n",
       "      <td>0</td>\n",
       "      <td>1</td>\n",
       "      <td>0</td>\n",
       "    </tr>\n",
       "    <tr>\n",
       "      <th>3</th>\n",
       "      <td>0</td>\n",
       "      <td>33.0</td>\n",
       "      <td>0</td>\n",
       "      <td>0.0</td>\n",
       "      <td>1283.0</td>\n",
       "      <td>371.0</td>\n",
       "      <td>3329.0</td>\n",
       "      <td>193.0</td>\n",
       "      <td>0</td>\n",
       "      <td>1</td>\n",
       "      <td>...</td>\n",
       "      <td>0</td>\n",
       "      <td>0</td>\n",
       "      <td>0</td>\n",
       "      <td>0</td>\n",
       "      <td>0</td>\n",
       "      <td>0</td>\n",
       "      <td>0</td>\n",
       "      <td>0</td>\n",
       "      <td>1</td>\n",
       "      <td>0</td>\n",
       "    </tr>\n",
       "    <tr>\n",
       "      <th>4</th>\n",
       "      <td>0</td>\n",
       "      <td>16.0</td>\n",
       "      <td>0</td>\n",
       "      <td>303.0</td>\n",
       "      <td>70.0</td>\n",
       "      <td>151.0</td>\n",
       "      <td>565.0</td>\n",
       "      <td>2.0</td>\n",
       "      <td>1</td>\n",
       "      <td>0</td>\n",
       "      <td>...</td>\n",
       "      <td>0</td>\n",
       "      <td>0</td>\n",
       "      <td>0</td>\n",
       "      <td>0</td>\n",
       "      <td>1</td>\n",
       "      <td>0</td>\n",
       "      <td>0</td>\n",
       "      <td>0</td>\n",
       "      <td>1</td>\n",
       "      <td>1</td>\n",
       "    </tr>\n",
       "  </tbody>\n",
       "</table>\n",
       "<p>5 rows × 27 columns</p>\n",
       "</div>"
      ],
      "text/plain": [
       "   CryoSleep   Age  VIP  RoomService  FoodCourt  ShoppingMall     Spa  VRDeck  \\\n",
       "0          0  39.0    0          0.0        0.0           0.0     0.0     0.0   \n",
       "1          0  24.0    0        109.0        9.0          25.0   549.0    44.0   \n",
       "2          0  58.0    1         43.0     3576.0           0.0  6715.0    49.0   \n",
       "3          0  33.0    0          0.0     1283.0         371.0  3329.0   193.0   \n",
       "4          0  16.0    0        303.0       70.0         151.0   565.0     2.0   \n",
       "\n",
       "   HomePlanet_Earth  HomePlanet_Europa  ...  Cabin_deck_B  Cabin_deck_C  \\\n",
       "0                 0                  1  ...             1             0   \n",
       "1                 1                  0  ...             0             0   \n",
       "2                 0                  1  ...             0             0   \n",
       "3                 0                  1  ...             0             0   \n",
       "4                 1                  0  ...             0             0   \n",
       "\n",
       "   Cabin_deck_D  Cabin_deck_E  Cabin_deck_F  Cabin_deck_G  Cabin_deck_T  \\\n",
       "0             0             0             0             0             0   \n",
       "1             0             0             1             0             0   \n",
       "2             0             0             0             0             0   \n",
       "3             0             0             0             0             0   \n",
       "4             0             0             1             0             0   \n",
       "\n",
       "   Cabin_side_P  Cabin_side_S  Transported  \n",
       "0             1             0            0  \n",
       "1             0             1            1  \n",
       "2             0             1            0  \n",
       "3             0             1            0  \n",
       "4             0             1            1  \n",
       "\n",
       "[5 rows x 27 columns]"
      ]
     },
     "execution_count": 8,
     "metadata": {},
     "output_type": "execute_result"
    }
   ],
   "source": [
    "data2.head()"
   ]
  },
  {
   "cell_type": "code",
   "execution_count": 9,
   "id": "90485e3c",
   "metadata": {
    "execution": {
     "iopub.execute_input": "2022-09-02T15:51:43.225293Z",
     "iopub.status.busy": "2022-09-02T15:51:43.224522Z",
     "iopub.status.idle": "2022-09-02T15:51:43.244946Z",
     "shell.execute_reply": "2022-09-02T15:51:43.241620Z"
    },
    "papermill": {
     "duration": 0.089824,
     "end_time": "2022-09-02T15:51:43.248648",
     "exception": false,
     "start_time": "2022-09-02T15:51:43.158824",
     "status": "completed"
    },
    "tags": []
   },
   "outputs": [
    {
     "data": {
      "text/plain": [
       "Int64Index([ 280,  338,  469,  548,  615,  703,  705,  712,  718,  901, 1157,\n",
       "            1335, 1356, 1390, 1429, 1603, 1607, 1655, 1686, 1734, 1923, 2137,\n",
       "            2290, 2310, 2361, 2694, 2790, 2822, 2857, 2865, 2884, 3021, 3053,\n",
       "            3171, 3184, 3526, 3562, 3632, 3971, 4310, 4433, 4657, 4682, 4803,\n",
       "            5079, 5218, 5242, 5722, 5955, 5958, 6067, 6469, 6582, 6601, 6783,\n",
       "            7012, 7013, 7038, 7224, 7289, 7387, 7501, 7576, 7584, 7715, 7729,\n",
       "            7791, 7934, 8042, 8170, 8254, 8369, 8516],\n",
       "           dtype='int64')"
      ]
     },
     "execution_count": 9,
     "metadata": {},
     "output_type": "execute_result"
    }
   ],
   "source": [
    "false_age_filter = (data2[\"Age\"] > false_age_outlier) & (data2[\"Transported\"]==0)\n",
    "ind_false_age_outlier = data2[false_age_filter].index\n",
    "ind_false_age_outlier"
   ]
  },
  {
   "cell_type": "code",
   "execution_count": 10,
   "id": "201b9a94",
   "metadata": {
    "execution": {
     "iopub.execute_input": "2022-09-02T15:51:43.320809Z",
     "iopub.status.busy": "2022-09-02T15:51:43.320436Z",
     "iopub.status.idle": "2022-09-02T15:51:43.334716Z",
     "shell.execute_reply": "2022-09-02T15:51:43.333384Z"
    },
    "papermill": {
     "duration": 0.050969,
     "end_time": "2022-09-02T15:51:43.341357",
     "exception": false,
     "start_time": "2022-09-02T15:51:43.290388",
     "status": "completed"
    },
    "tags": []
   },
   "outputs": [
    {
     "data": {
      "text/plain": [
       "Int64Index([ 118,  378,  416,  779,  848,  917, 1267, 1379, 1714, 2006, 2159,\n",
       "            2261, 2351, 2484, 2530, 2736, 2786, 2930, 2941, 3104, 3169, 3181,\n",
       "            3280, 3540, 3930, 4132, 4349, 4934, 5267, 5315, 5353, 6146, 6200,\n",
       "            6301, 6330, 6451, 7129, 7269, 7330, 8288],\n",
       "           dtype='int64')"
      ]
     },
     "execution_count": 10,
     "metadata": {},
     "output_type": "execute_result"
    }
   ],
   "source": [
    "true_age_filter = (data2[\"Age\"] > true_age_outlier) & (data2[\"Transported\"]==1)\n",
    "ind_true_age_outlier = data2[true_age_filter].index\n",
    "ind_true_age_outlier"
   ]
  },
  {
   "cell_type": "code",
   "execution_count": 11,
   "id": "a53cce42",
   "metadata": {
    "execution": {
     "iopub.execute_input": "2022-09-02T15:51:43.402031Z",
     "iopub.status.busy": "2022-09-02T15:51:43.401466Z",
     "iopub.status.idle": "2022-09-02T15:51:43.409898Z",
     "shell.execute_reply": "2022-09-02T15:51:43.409116Z"
    },
    "papermill": {
     "duration": 0.041598,
     "end_time": "2022-09-02T15:51:43.415264",
     "exception": false,
     "start_time": "2022-09-02T15:51:43.373666",
     "status": "completed"
    },
    "tags": []
   },
   "outputs": [
    {
     "data": {
      "text/plain": [
       "27.0"
      ]
     },
     "execution_count": 11,
     "metadata": {},
     "output_type": "execute_result"
    }
   ],
   "source": [
    "data2[\"Age\"].median()"
   ]
  },
  {
   "cell_type": "code",
   "execution_count": 12,
   "id": "e37e1595",
   "metadata": {
    "execution": {
     "iopub.execute_input": "2022-09-02T15:51:43.470022Z",
     "iopub.status.busy": "2022-09-02T15:51:43.469522Z",
     "iopub.status.idle": "2022-09-02T15:51:43.477118Z",
     "shell.execute_reply": "2022-09-02T15:51:43.476128Z"
    },
    "papermill": {
     "duration": 0.038736,
     "end_time": "2022-09-02T15:51:43.481366",
     "exception": false,
     "start_time": "2022-09-02T15:51:43.442630",
     "status": "completed"
    },
    "tags": []
   },
   "outputs": [],
   "source": [
    "data2.loc[ind_false_age_outlier, \"Age\"] = data2[\"Age\"].median()"
   ]
  },
  {
   "cell_type": "code",
   "execution_count": 13,
   "id": "795ab181",
   "metadata": {
    "execution": {
     "iopub.execute_input": "2022-09-02T15:51:43.535456Z",
     "iopub.status.busy": "2022-09-02T15:51:43.535014Z",
     "iopub.status.idle": "2022-09-02T15:51:43.548010Z",
     "shell.execute_reply": "2022-09-02T15:51:43.547115Z"
    },
    "papermill": {
     "duration": 0.043369,
     "end_time": "2022-09-02T15:51:43.551203",
     "exception": false,
     "start_time": "2022-09-02T15:51:43.507834",
     "status": "completed"
    },
    "tags": []
   },
   "outputs": [
    {
     "data": {
      "text/plain": [
       "280     27.0\n",
       "338     27.0\n",
       "469     27.0\n",
       "548     27.0\n",
       "615     27.0\n",
       "        ... \n",
       "8042    27.0\n",
       "8170    27.0\n",
       "8254    27.0\n",
       "8369    27.0\n",
       "8516    27.0\n",
       "Name: Age, Length: 73, dtype: float64"
      ]
     },
     "execution_count": 13,
     "metadata": {},
     "output_type": "execute_result"
    }
   ],
   "source": [
    "data2.loc[ind_false_age_outlier, \"Age\"]"
   ]
  },
  {
   "cell_type": "code",
   "execution_count": 14,
   "id": "a22b7425",
   "metadata": {
    "execution": {
     "iopub.execute_input": "2022-09-02T15:51:43.608341Z",
     "iopub.status.busy": "2022-09-02T15:51:43.607877Z",
     "iopub.status.idle": "2022-09-02T15:51:43.624509Z",
     "shell.execute_reply": "2022-09-02T15:51:43.623518Z"
    },
    "papermill": {
     "duration": 0.04736,
     "end_time": "2022-09-02T15:51:43.627456",
     "exception": false,
     "start_time": "2022-09-02T15:51:43.580096",
     "status": "completed"
    },
    "tags": []
   },
   "outputs": [
    {
     "data": {
      "text/plain": [
       "280     27.0\n",
       "338     27.0\n",
       "469     27.0\n",
       "548     27.0\n",
       "615     27.0\n",
       "        ... \n",
       "8042    27.0\n",
       "8170    27.0\n",
       "8254    27.0\n",
       "8369    27.0\n",
       "8516    27.0\n",
       "Name: Age, Length: 73, dtype: float64"
      ]
     },
     "execution_count": 14,
     "metadata": {},
     "output_type": "execute_result"
    }
   ],
   "source": [
    "data2.loc[ind_true_age_outlier, \"Age\"] = data2[\"Age\"].median()\n",
    "data2.loc[ind_false_age_outlier, \"Age\"]"
   ]
  },
  {
   "cell_type": "code",
   "execution_count": 15,
   "id": "12ea6bf1",
   "metadata": {
    "execution": {
     "iopub.execute_input": "2022-09-02T15:51:43.694784Z",
     "iopub.status.busy": "2022-09-02T15:51:43.694365Z",
     "iopub.status.idle": "2022-09-02T15:51:43.702293Z",
     "shell.execute_reply": "2022-09-02T15:51:43.701371Z"
    },
    "papermill": {
     "duration": 0.041132,
     "end_time": "2022-09-02T15:51:43.707672",
     "exception": false,
     "start_time": "2022-09-02T15:51:43.666540",
     "status": "completed"
    },
    "tags": []
   },
   "outputs": [
    {
     "data": {
      "text/plain": [
       "65.0"
      ]
     },
     "execution_count": 15,
     "metadata": {},
     "output_type": "execute_result"
    }
   ],
   "source": [
    "data2[\"Age\"].max()"
   ]
  },
  {
   "cell_type": "code",
   "execution_count": 16,
   "id": "6d95460f",
   "metadata": {
    "execution": {
     "iopub.execute_input": "2022-09-02T15:51:43.762537Z",
     "iopub.status.busy": "2022-09-02T15:51:43.761936Z",
     "iopub.status.idle": "2022-09-02T15:51:44.035911Z",
     "shell.execute_reply": "2022-09-02T15:51:44.035032Z"
    },
    "papermill": {
     "duration": 0.302835,
     "end_time": "2022-09-02T15:51:44.038604",
     "exception": false,
     "start_time": "2022-09-02T15:51:43.735769",
     "status": "completed"
    },
    "tags": []
   },
   "outputs": [
    {
     "data": {
      "text/plain": [
       "<AxesSubplot:xlabel='Transported', ylabel='Age'>"
      ]
     },
     "execution_count": 16,
     "metadata": {},
     "output_type": "execute_result"
    },
    {
     "data": {
      "image/png": "[encoded data removed]",
      "text/plain": [
       "<Figure size 432x288 with 1 Axes>"
      ]
     },
     "metadata": {},
     "output_type": "display_data"
    }
   ],
   "source": [
    "sns.boxplot(x=data2[\"Transported\"], y=data2[\"Age\"])"
   ]
  },
  {
   "cell_type": "markdown",
   "id": "1cc15ba8",
   "metadata": {
    "papermill": {
     "duration": 0.027938,
     "end_time": "2022-09-02T15:51:44.095578",
     "exception": false,
     "start_time": "2022-09-02T15:51:44.067640",
     "status": "completed"
    },
    "tags": []
   },
   "source": [
    "## Splitting training and validation set"
   ]
  },
  {
   "cell_type": "code",
   "execution_count": 17,
   "id": "fd219f8e",
   "metadata": {
    "execution": {
     "iopub.execute_input": "2022-09-02T15:51:44.153725Z",
     "iopub.status.busy": "2022-09-02T15:51:44.153175Z",
     "iopub.status.idle": "2022-09-02T15:51:44.188894Z",
     "shell.execute_reply": "2022-09-02T15:51:44.188031Z"
    },
    "papermill": {
     "duration": 0.068045,
     "end_time": "2022-09-02T15:51:44.191786",
     "exception": false,
     "start_time": "2022-09-02T15:51:44.123741",
     "status": "completed"
    },
    "tags": []
   },
   "outputs": [
    {
     "data": {
      "text/html": [
       "<div>\n",
       "<style scoped>\n",
       "    .dataframe tbody tr th:only-of-type {\n",
       "        vertical-align: middle;\n",
       "    }\n",
       "\n",
       "    .dataframe tbody tr th {\n",
       "        vertical-align: top;\n",
       "    }\n",
       "\n",
       "    .dataframe thead th {\n",
       "        text-align: right;\n",
       "    }\n",
       "</style>\n",
       "<table border=\"1\" class=\"dataframe\">\n",
       "  <thead>\n",
       "    <tr style=\"text-align: right;\">\n",
       "      <th></th>\n",
       "      <th>CryoSleep</th>\n",
       "      <th>Age</th>\n",
       "      <th>VIP</th>\n",
       "      <th>RoomService</th>\n",
       "      <th>FoodCourt</th>\n",
       "      <th>ShoppingMall</th>\n",
       "      <th>Spa</th>\n",
       "      <th>VRDeck</th>\n",
       "      <th>HomePlanet_Earth</th>\n",
       "      <th>HomePlanet_Europa</th>\n",
       "      <th>...</th>\n",
       "      <th>Cabin_deck_A</th>\n",
       "      <th>Cabin_deck_B</th>\n",
       "      <th>Cabin_deck_C</th>\n",
       "      <th>Cabin_deck_D</th>\n",
       "      <th>Cabin_deck_E</th>\n",
       "      <th>Cabin_deck_F</th>\n",
       "      <th>Cabin_deck_G</th>\n",
       "      <th>Cabin_deck_T</th>\n",
       "      <th>Cabin_side_P</th>\n",
       "      <th>Cabin_side_S</th>\n",
       "    </tr>\n",
       "  </thead>\n",
       "  <tbody>\n",
       "    <tr>\n",
       "      <th>0</th>\n",
       "      <td>0</td>\n",
       "      <td>39.0</td>\n",
       "      <td>0</td>\n",
       "      <td>0.0</td>\n",
       "      <td>0.0</td>\n",
       "      <td>0.0</td>\n",
       "      <td>0.0</td>\n",
       "      <td>0.0</td>\n",
       "      <td>0</td>\n",
       "      <td>1</td>\n",
       "      <td>...</td>\n",
       "      <td>0</td>\n",
       "      <td>1</td>\n",
       "      <td>0</td>\n",
       "      <td>0</td>\n",
       "      <td>0</td>\n",
       "      <td>0</td>\n",
       "      <td>0</td>\n",
       "      <td>0</td>\n",
       "      <td>1</td>\n",
       "      <td>0</td>\n",
       "    </tr>\n",
       "    <tr>\n",
       "      <th>1</th>\n",
       "      <td>0</td>\n",
       "      <td>24.0</td>\n",
       "      <td>0</td>\n",
       "      <td>109.0</td>\n",
       "      <td>9.0</td>\n",
       "      <td>25.0</td>\n",
       "      <td>549.0</td>\n",
       "      <td>44.0</td>\n",
       "      <td>1</td>\n",
       "      <td>0</td>\n",
       "      <td>...</td>\n",
       "      <td>0</td>\n",
       "      <td>0</td>\n",
       "      <td>0</td>\n",
       "      <td>0</td>\n",
       "      <td>0</td>\n",
       "      <td>1</td>\n",
       "      <td>0</td>\n",
       "      <td>0</td>\n",
       "      <td>0</td>\n",
       "      <td>1</td>\n",
       "    </tr>\n",
       "    <tr>\n",
       "      <th>2</th>\n",
       "      <td>0</td>\n",
       "      <td>58.0</td>\n",
       "      <td>1</td>\n",
       "      <td>43.0</td>\n",
       "      <td>3576.0</td>\n",
       "      <td>0.0</td>\n",
       "      <td>6715.0</td>\n",
       "      <td>49.0</td>\n",
       "      <td>0</td>\n",
       "      <td>1</td>\n",
       "      <td>...</td>\n",
       "      <td>1</td>\n",
       "      <td>0</td>\n",
       "      <td>0</td>\n",
       "      <td>0</td>\n",
       "      <td>0</td>\n",
       "      <td>0</td>\n",
       "      <td>0</td>\n",
       "      <td>0</td>\n",
       "      <td>0</td>\n",
       "      <td>1</td>\n",
       "    </tr>\n",
       "    <tr>\n",
       "      <th>3</th>\n",
       "      <td>0</td>\n",
       "      <td>33.0</td>\n",
       "      <td>0</td>\n",
       "      <td>0.0</td>\n",
       "      <td>1283.0</td>\n",
       "      <td>371.0</td>\n",
       "      <td>3329.0</td>\n",
       "      <td>193.0</td>\n",
       "      <td>0</td>\n",
       "      <td>1</td>\n",
       "      <td>...</td>\n",
       "      <td>1</td>\n",
       "      <td>0</td>\n",
       "      <td>0</td>\n",
       "      <td>0</td>\n",
       "      <td>0</td>\n",
       "      <td>0</td>\n",
       "      <td>0</td>\n",
       "      <td>0</td>\n",
       "      <td>0</td>\n",
       "      <td>1</td>\n",
       "    </tr>\n",
       "    <tr>\n",
       "      <th>4</th>\n",
       "      <td>0</td>\n",
       "      <td>16.0</td>\n",
       "      <td>0</td>\n",
       "      <td>303.0</td>\n",
       "      <td>70.0</td>\n",
       "      <td>151.0</td>\n",
       "      <td>565.0</td>\n",
       "      <td>2.0</td>\n",
       "      <td>1</td>\n",
       "      <td>0</td>\n",
       "      <td>...</td>\n",
       "      <td>0</td>\n",
       "      <td>0</td>\n",
       "      <td>0</td>\n",
       "      <td>0</td>\n",
       "      <td>0</td>\n",
       "      <td>1</td>\n",
       "      <td>0</td>\n",
       "      <td>0</td>\n",
       "      <td>0</td>\n",
       "      <td>1</td>\n",
       "    </tr>\n",
       "  </tbody>\n",
       "</table>\n",
       "<p>5 rows × 26 columns</p>\n",
       "</div>"
      ],
      "text/plain": [
       "   CryoSleep   Age  VIP  RoomService  FoodCourt  ShoppingMall     Spa  VRDeck  \\\n",
       "0          0  39.0    0          0.0        0.0           0.0     0.0     0.0   \n",
       "1          0  24.0    0        109.0        9.0          25.0   549.0    44.0   \n",
       "2          0  58.0    1         43.0     3576.0           0.0  6715.0    49.0   \n",
       "3          0  33.0    0          0.0     1283.0         371.0  3329.0   193.0   \n",
       "4          0  16.0    0        303.0       70.0         151.0   565.0     2.0   \n",
       "\n",
       "   HomePlanet_Earth  HomePlanet_Europa  ...  Cabin_deck_A  Cabin_deck_B  \\\n",
       "0                 0                  1  ...             0             1   \n",
       "1                 1                  0  ...             0             0   \n",
       "2                 0                  1  ...             1             0   \n",
       "3                 0                  1  ...             1             0   \n",
       "4                 1                  0  ...             0             0   \n",
       "\n",
       "   Cabin_deck_C  Cabin_deck_D  Cabin_deck_E  Cabin_deck_F  Cabin_deck_G  \\\n",
       "0             0             0             0             0             0   \n",
       "1             0             0             0             1             0   \n",
       "2             0             0             0             0             0   \n",
       "3             0             0             0             0             0   \n",
       "4             0             0             0             1             0   \n",
       "\n",
       "   Cabin_deck_T  Cabin_side_P  Cabin_side_S  \n",
       "0             0             1             0  \n",
       "1             0             0             1  \n",
       "2             0             0             1  \n",
       "3             0             0             1  \n",
       "4             0             0             1  \n",
       "\n",
       "[5 rows x 26 columns]"
      ]
     },
     "execution_count": 17,
     "metadata": {},
     "output_type": "execute_result"
    }
   ],
   "source": [
    "X = data2.iloc[:, :-1]\n",
    "Y = data2.iloc[:, -1]\n",
    "X.head()"
   ]
  },
  {
   "cell_type": "code",
   "execution_count": 18,
   "id": "91407d66",
   "metadata": {
    "execution": {
     "iopub.execute_input": "2022-09-02T15:51:44.256886Z",
     "iopub.status.busy": "2022-09-02T15:51:44.256225Z",
     "iopub.status.idle": "2022-09-02T15:51:44.267969Z",
     "shell.execute_reply": "2022-09-02T15:51:44.267022Z"
    },
    "papermill": {
     "duration": 0.048659,
     "end_time": "2022-09-02T15:51:44.270786",
     "exception": false,
     "start_time": "2022-09-02T15:51:44.222127",
     "status": "completed"
    },
    "tags": []
   },
   "outputs": [
    {
     "data": {
      "text/plain": [
       "0    0\n",
       "1    1\n",
       "2    0\n",
       "3    0\n",
       "4    1\n",
       "Name: Transported, dtype: int64"
      ]
     },
     "execution_count": 18,
     "metadata": {},
     "output_type": "execute_result"
    }
   ],
   "source": [
    "Y.head()"
   ]
  },
  {
   "cell_type": "code",
   "execution_count": 19,
   "id": "c30aa5c6",
   "metadata": {
    "execution": {
     "iopub.execute_input": "2022-09-02T15:51:44.334403Z",
     "iopub.status.busy": "2022-09-02T15:51:44.333819Z",
     "iopub.status.idle": "2022-09-02T15:51:44.343947Z",
     "shell.execute_reply": "2022-09-02T15:51:44.343106Z"
    },
    "papermill": {
     "duration": 0.046558,
     "end_time": "2022-09-02T15:51:44.348297",
     "exception": false,
     "start_time": "2022-09-02T15:51:44.301739",
     "status": "completed"
    },
    "tags": []
   },
   "outputs": [
    {
     "data": {
      "text/plain": [
       "Index(['CryoSleep', 'Age', 'VIP', 'RoomService', 'FoodCourt', 'ShoppingMall',\n",
       "       'Spa', 'VRDeck', 'HomePlanet_Earth', 'HomePlanet_Europa',\n",
       "       'HomePlanet_Mars', 'Destination_55 Cancri e',\n",
       "       'Destination_PSO J318.5-22', 'Destination_TRAPPIST-1e', 'Cabin_num',\n",
       "       'Expenses', 'Cabin_deck_A', 'Cabin_deck_B', 'Cabin_deck_C',\n",
       "       'Cabin_deck_D', 'Cabin_deck_E', 'Cabin_deck_F', 'Cabin_deck_G',\n",
       "       'Cabin_deck_T', 'Cabin_side_P', 'Cabin_side_S'],\n",
       "      dtype='object')"
      ]
     },
     "execution_count": 19,
     "metadata": {},
     "output_type": "execute_result"
    }
   ],
   "source": [
    "cols = X.columns\n",
    "cols"
   ]
  },
  {
   "cell_type": "code",
   "execution_count": 20,
   "id": "bdd6458f",
   "metadata": {
    "execution": {
     "iopub.execute_input": "2022-09-02T15:51:44.410651Z",
     "iopub.status.busy": "2022-09-02T15:51:44.410199Z",
     "iopub.status.idle": "2022-09-02T15:51:44.422663Z",
     "shell.execute_reply": "2022-09-02T15:51:44.421620Z"
    },
    "papermill": {
     "duration": 0.046729,
     "end_time": "2022-09-02T15:51:44.425409",
     "exception": false,
     "start_time": "2022-09-02T15:51:44.378680",
     "status": "completed"
    },
    "tags": []
   },
   "outputs": [],
   "source": [
    "X_train, X_valid, y_train, y_valid = train_test_split(X, Y, test_size=0.2, random_state=0)"
   ]
  },
  {
   "cell_type": "code",
   "execution_count": 21,
   "id": "37a0328c",
   "metadata": {
    "execution": {
     "iopub.execute_input": "2022-09-02T15:51:44.489444Z",
     "iopub.status.busy": "2022-09-02T15:51:44.488872Z",
     "iopub.status.idle": "2022-09-02T15:51:44.495922Z",
     "shell.execute_reply": "2022-09-02T15:51:44.494951Z"
    },
    "papermill": {
     "duration": 0.044633,
     "end_time": "2022-09-02T15:51:44.502160",
     "exception": false,
     "start_time": "2022-09-02T15:51:44.457527",
     "status": "completed"
    },
    "tags": []
   },
   "outputs": [
    {
     "data": {
      "text/plain": [
       "((6954, 26), (6954,))"
      ]
     },
     "execution_count": 21,
     "metadata": {},
     "output_type": "execute_result"
    }
   ],
   "source": [
    "X_train.shape, y_train.shape"
   ]
  },
  {
   "cell_type": "code",
   "execution_count": 22,
   "id": "562dbe30",
   "metadata": {
    "execution": {
     "iopub.execute_input": "2022-09-02T15:51:44.564359Z",
     "iopub.status.busy": "2022-09-02T15:51:44.563816Z",
     "iopub.status.idle": "2022-09-02T15:51:44.571979Z",
     "shell.execute_reply": "2022-09-02T15:51:44.571239Z"
    },
    "papermill": {
     "duration": 0.04353,
     "end_time": "2022-09-02T15:51:44.575988",
     "exception": false,
     "start_time": "2022-09-02T15:51:44.532458",
     "status": "completed"
    },
    "tags": []
   },
   "outputs": [
    {
     "data": {
      "text/plain": [
       "((1739, 26), (1739,))"
      ]
     },
     "execution_count": 22,
     "metadata": {},
     "output_type": "execute_result"
    }
   ],
   "source": [
    "X_valid.shape, y_valid.shape\n"
   ]
  },
  {
   "cell_type": "markdown",
   "id": "83be055e",
   "metadata": {
    "papermill": {
     "duration": 0.019574,
     "end_time": "2022-09-02T15:51:44.623688",
     "exception": false,
     "start_time": "2022-09-02T15:51:44.604114",
     "status": "completed"
    },
    "tags": []
   },
   "source": [
    "### Transforming test data"
   ]
  },
  {
   "cell_type": "code",
   "execution_count": 23,
   "id": "26bd3b12",
   "metadata": {
    "execution": {
     "iopub.execute_input": "2022-09-02T15:51:44.662766Z",
     "iopub.status.busy": "2022-09-02T15:51:44.662392Z",
     "iopub.status.idle": "2022-09-02T15:51:44.681432Z",
     "shell.execute_reply": "2022-09-02T15:51:44.680365Z"
    },
    "papermill": {
     "duration": 0.041226,
     "end_time": "2022-09-02T15:51:44.683666",
     "exception": false,
     "start_time": "2022-09-02T15:51:44.642440",
     "status": "completed"
    },
    "tags": []
   },
   "outputs": [
    {
     "data": {
      "text/html": [
       "<div>\n",
       "<style scoped>\n",
       "    .dataframe tbody tr th:only-of-type {\n",
       "        vertical-align: middle;\n",
       "    }\n",
       "\n",
       "    .dataframe tbody tr th {\n",
       "        vertical-align: top;\n",
       "    }\n",
       "\n",
       "    .dataframe thead th {\n",
       "        text-align: right;\n",
       "    }\n",
       "</style>\n",
       "<table border=\"1\" class=\"dataframe\">\n",
       "  <thead>\n",
       "    <tr style=\"text-align: right;\">\n",
       "      <th></th>\n",
       "      <th>PassengerId</th>\n",
       "      <th>HomePlanet</th>\n",
       "      <th>CryoSleep</th>\n",
       "      <th>Cabin</th>\n",
       "      <th>Destination</th>\n",
       "      <th>Age</th>\n",
       "      <th>VIP</th>\n",
       "      <th>RoomService</th>\n",
       "      <th>FoodCourt</th>\n",
       "      <th>ShoppingMall</th>\n",
       "      <th>Spa</th>\n",
       "      <th>VRDeck</th>\n",
       "      <th>Name</th>\n",
       "    </tr>\n",
       "  </thead>\n",
       "  <tbody>\n",
       "    <tr>\n",
       "      <th>0</th>\n",
       "      <td>0013_01</td>\n",
       "      <td>Earth</td>\n",
       "      <td>True</td>\n",
       "      <td>G/3/S</td>\n",
       "      <td>TRAPPIST-1e</td>\n",
       "      <td>27.0</td>\n",
       "      <td>False</td>\n",
       "      <td>0.0</td>\n",
       "      <td>0.0</td>\n",
       "      <td>0.0</td>\n",
       "      <td>0.0</td>\n",
       "      <td>0.0</td>\n",
       "      <td>Nelly Carsoning</td>\n",
       "    </tr>\n",
       "    <tr>\n",
       "      <th>1</th>\n",
       "      <td>0018_01</td>\n",
       "      <td>Earth</td>\n",
       "      <td>False</td>\n",
       "      <td>F/4/S</td>\n",
       "      <td>TRAPPIST-1e</td>\n",
       "      <td>19.0</td>\n",
       "      <td>False</td>\n",
       "      <td>0.0</td>\n",
       "      <td>9.0</td>\n",
       "      <td>0.0</td>\n",
       "      <td>2823.0</td>\n",
       "      <td>0.0</td>\n",
       "      <td>Lerome Peckers</td>\n",
       "    </tr>\n",
       "    <tr>\n",
       "      <th>2</th>\n",
       "      <td>0019_01</td>\n",
       "      <td>Europa</td>\n",
       "      <td>True</td>\n",
       "      <td>C/0/S</td>\n",
       "      <td>55 Cancri e</td>\n",
       "      <td>31.0</td>\n",
       "      <td>False</td>\n",
       "      <td>0.0</td>\n",
       "      <td>0.0</td>\n",
       "      <td>0.0</td>\n",
       "      <td>0.0</td>\n",
       "      <td>0.0</td>\n",
       "      <td>Sabih Unhearfus</td>\n",
       "    </tr>\n",
       "    <tr>\n",
       "      <th>3</th>\n",
       "      <td>0021_01</td>\n",
       "      <td>Europa</td>\n",
       "      <td>False</td>\n",
       "      <td>C/1/S</td>\n",
       "      <td>TRAPPIST-1e</td>\n",
       "      <td>38.0</td>\n",
       "      <td>False</td>\n",
       "      <td>0.0</td>\n",
       "      <td>6652.0</td>\n",
       "      <td>0.0</td>\n",
       "      <td>181.0</td>\n",
       "      <td>585.0</td>\n",
       "      <td>Meratz Caltilter</td>\n",
       "    </tr>\n",
       "    <tr>\n",
       "      <th>4</th>\n",
       "      <td>0023_01</td>\n",
       "      <td>Earth</td>\n",
       "      <td>False</td>\n",
       "      <td>F/5/S</td>\n",
       "      <td>TRAPPIST-1e</td>\n",
       "      <td>20.0</td>\n",
       "      <td>False</td>\n",
       "      <td>10.0</td>\n",
       "      <td>0.0</td>\n",
       "      <td>635.0</td>\n",
       "      <td>0.0</td>\n",
       "      <td>0.0</td>\n",
       "      <td>Brence Harperez</td>\n",
       "    </tr>\n",
       "  </tbody>\n",
       "</table>\n",
       "</div>"
      ],
      "text/plain": [
       "  PassengerId HomePlanet CryoSleep  Cabin  Destination   Age    VIP  \\\n",
       "0     0013_01      Earth      True  G/3/S  TRAPPIST-1e  27.0  False   \n",
       "1     0018_01      Earth     False  F/4/S  TRAPPIST-1e  19.0  False   \n",
       "2     0019_01     Europa      True  C/0/S  55 Cancri e  31.0  False   \n",
       "3     0021_01     Europa     False  C/1/S  TRAPPIST-1e  38.0  False   \n",
       "4     0023_01      Earth     False  F/5/S  TRAPPIST-1e  20.0  False   \n",
       "\n",
       "   RoomService  FoodCourt  ShoppingMall     Spa  VRDeck              Name  \n",
       "0          0.0        0.0           0.0     0.0     0.0   Nelly Carsoning  \n",
       "1          0.0        9.0           0.0  2823.0     0.0    Lerome Peckers  \n",
       "2          0.0        0.0           0.0     0.0     0.0   Sabih Unhearfus  \n",
       "3          0.0     6652.0           0.0   181.0   585.0  Meratz Caltilter  \n",
       "4         10.0        0.0         635.0     0.0     0.0   Brence Harperez  "
      ]
     },
     "execution_count": 23,
     "metadata": {},
     "output_type": "execute_result"
    }
   ],
   "source": [
    "test_data.head()"
   ]
  },
  {
   "cell_type": "code",
   "execution_count": 24,
   "id": "c4ead18d",
   "metadata": {
    "execution": {
     "iopub.execute_input": "2022-09-02T15:51:44.723092Z",
     "iopub.status.busy": "2022-09-02T15:51:44.722788Z",
     "iopub.status.idle": "2022-09-02T15:51:44.741591Z",
     "shell.execute_reply": "2022-09-02T15:51:44.740534Z"
    },
    "papermill": {
     "duration": 0.040919,
     "end_time": "2022-09-02T15:51:44.743950",
     "exception": false,
     "start_time": "2022-09-02T15:51:44.703031",
     "status": "completed"
    },
    "tags": []
   },
   "outputs": [
    {
     "data": {
      "text/html": [
       "<div>\n",
       "<style scoped>\n",
       "    .dataframe tbody tr th:only-of-type {\n",
       "        vertical-align: middle;\n",
       "    }\n",
       "\n",
       "    .dataframe tbody tr th {\n",
       "        vertical-align: top;\n",
       "    }\n",
       "\n",
       "    .dataframe thead th {\n",
       "        text-align: right;\n",
       "    }\n",
       "</style>\n",
       "<table border=\"1\" class=\"dataframe\">\n",
       "  <thead>\n",
       "    <tr style=\"text-align: right;\">\n",
       "      <th></th>\n",
       "      <th>HomePlanet</th>\n",
       "      <th>CryoSleep</th>\n",
       "      <th>Cabin</th>\n",
       "      <th>Destination</th>\n",
       "      <th>Age</th>\n",
       "      <th>VIP</th>\n",
       "      <th>RoomService</th>\n",
       "      <th>FoodCourt</th>\n",
       "      <th>ShoppingMall</th>\n",
       "      <th>Spa</th>\n",
       "      <th>VRDeck</th>\n",
       "      <th>Name</th>\n",
       "    </tr>\n",
       "  </thead>\n",
       "  <tbody>\n",
       "    <tr>\n",
       "      <th>0</th>\n",
       "      <td>Earth</td>\n",
       "      <td>True</td>\n",
       "      <td>G/3/S</td>\n",
       "      <td>TRAPPIST-1e</td>\n",
       "      <td>27.0</td>\n",
       "      <td>False</td>\n",
       "      <td>0.0</td>\n",
       "      <td>0.0</td>\n",
       "      <td>0.0</td>\n",
       "      <td>0.0</td>\n",
       "      <td>0.0</td>\n",
       "      <td>Nelly Carsoning</td>\n",
       "    </tr>\n",
       "    <tr>\n",
       "      <th>1</th>\n",
       "      <td>Earth</td>\n",
       "      <td>False</td>\n",
       "      <td>F/4/S</td>\n",
       "      <td>TRAPPIST-1e</td>\n",
       "      <td>19.0</td>\n",
       "      <td>False</td>\n",
       "      <td>0.0</td>\n",
       "      <td>9.0</td>\n",
       "      <td>0.0</td>\n",
       "      <td>2823.0</td>\n",
       "      <td>0.0</td>\n",
       "      <td>Lerome Peckers</td>\n",
       "    </tr>\n",
       "    <tr>\n",
       "      <th>2</th>\n",
       "      <td>Europa</td>\n",
       "      <td>True</td>\n",
       "      <td>C/0/S</td>\n",
       "      <td>55 Cancri e</td>\n",
       "      <td>31.0</td>\n",
       "      <td>False</td>\n",
       "      <td>0.0</td>\n",
       "      <td>0.0</td>\n",
       "      <td>0.0</td>\n",
       "      <td>0.0</td>\n",
       "      <td>0.0</td>\n",
       "      <td>Sabih Unhearfus</td>\n",
       "    </tr>\n",
       "    <tr>\n",
       "      <th>3</th>\n",
       "      <td>Europa</td>\n",
       "      <td>False</td>\n",
       "      <td>C/1/S</td>\n",
       "      <td>TRAPPIST-1e</td>\n",
       "      <td>38.0</td>\n",
       "      <td>False</td>\n",
       "      <td>0.0</td>\n",
       "      <td>6652.0</td>\n",
       "      <td>0.0</td>\n",
       "      <td>181.0</td>\n",
       "      <td>585.0</td>\n",
       "      <td>Meratz Caltilter</td>\n",
       "    </tr>\n",
       "    <tr>\n",
       "      <th>4</th>\n",
       "      <td>Earth</td>\n",
       "      <td>False</td>\n",
       "      <td>F/5/S</td>\n",
       "      <td>TRAPPIST-1e</td>\n",
       "      <td>20.0</td>\n",
       "      <td>False</td>\n",
       "      <td>10.0</td>\n",
       "      <td>0.0</td>\n",
       "      <td>635.0</td>\n",
       "      <td>0.0</td>\n",
       "      <td>0.0</td>\n",
       "      <td>Brence Harperez</td>\n",
       "    </tr>\n",
       "  </tbody>\n",
       "</table>\n",
       "</div>"
      ],
      "text/plain": [
       "  HomePlanet CryoSleep  Cabin  Destination   Age    VIP  RoomService  \\\n",
       "0      Earth      True  G/3/S  TRAPPIST-1e  27.0  False          0.0   \n",
       "1      Earth     False  F/4/S  TRAPPIST-1e  19.0  False          0.0   \n",
       "2     Europa      True  C/0/S  55 Cancri e  31.0  False          0.0   \n",
       "3     Europa     False  C/1/S  TRAPPIST-1e  38.0  False          0.0   \n",
       "4      Earth     False  F/5/S  TRAPPIST-1e  20.0  False         10.0   \n",
       "\n",
       "   FoodCourt  ShoppingMall     Spa  VRDeck              Name  \n",
       "0        0.0           0.0     0.0     0.0   Nelly Carsoning  \n",
       "1        9.0           0.0  2823.0     0.0    Lerome Peckers  \n",
       "2        0.0           0.0     0.0     0.0   Sabih Unhearfus  \n",
       "3     6652.0           0.0   181.0   585.0  Meratz Caltilter  \n",
       "4        0.0         635.0     0.0     0.0   Brence Harperez  "
      ]
     },
     "execution_count": 24,
     "metadata": {},
     "output_type": "execute_result"
    }
   ],
   "source": [
    "index = test_data.pop(\"PassengerId\")\n",
    "test_data.head()"
   ]
  },
  {
   "cell_type": "code",
   "execution_count": 25,
   "id": "92d2b91c",
   "metadata": {
    "execution": {
     "iopub.execute_input": "2022-09-02T15:51:44.784520Z",
     "iopub.status.busy": "2022-09-02T15:51:44.783730Z",
     "iopub.status.idle": "2022-09-02T15:51:44.793156Z",
     "shell.execute_reply": "2022-09-02T15:51:44.792091Z"
    },
    "papermill": {
     "duration": 0.032021,
     "end_time": "2022-09-02T15:51:44.795276",
     "exception": false,
     "start_time": "2022-09-02T15:51:44.763255",
     "status": "completed"
    },
    "tags": []
   },
   "outputs": [
    {
     "data": {
      "text/plain": [
       "HomePlanet       87\n",
       "CryoSleep        93\n",
       "Cabin           100\n",
       "Destination      92\n",
       "Age              91\n",
       "VIP              93\n",
       "RoomService      82\n",
       "FoodCourt       106\n",
       "ShoppingMall     98\n",
       "Spa             101\n",
       "VRDeck           80\n",
       "Name             94\n",
       "dtype: int64"
      ]
     },
     "execution_count": 25,
     "metadata": {},
     "output_type": "execute_result"
    }
   ],
   "source": [
    "test_data.isnull().sum()"
   ]
  },
  {
   "cell_type": "code",
   "execution_count": 26,
   "id": "f0b0d953",
   "metadata": {
    "execution": {
     "iopub.execute_input": "2022-09-02T15:51:44.837550Z",
     "iopub.status.busy": "2022-09-02T15:51:44.836634Z",
     "iopub.status.idle": "2022-09-02T15:51:44.846266Z",
     "shell.execute_reply": "2022-09-02T15:51:44.845262Z"
    },
    "papermill": {
     "duration": 0.032831,
     "end_time": "2022-09-02T15:51:44.848263",
     "exception": false,
     "start_time": "2022-09-02T15:51:44.815432",
     "status": "completed"
    },
    "tags": []
   },
   "outputs": [
    {
     "data": {
      "text/plain": [
       "0    Earth\n",
       "dtype: object"
      ]
     },
     "execution_count": 26,
     "metadata": {},
     "output_type": "execute_result"
    }
   ],
   "source": [
    "test_data[\"HomePlanet\"].mode()"
   ]
  },
  {
   "cell_type": "code",
   "execution_count": 27,
   "id": "53f2259c",
   "metadata": {
    "execution": {
     "iopub.execute_input": "2022-09-02T15:51:44.889237Z",
     "iopub.status.busy": "2022-09-02T15:51:44.888409Z",
     "iopub.status.idle": "2022-09-02T15:51:44.896111Z",
     "shell.execute_reply": "2022-09-02T15:51:44.895114Z"
    },
    "papermill": {
     "duration": 0.030521,
     "end_time": "2022-09-02T15:51:44.898071",
     "exception": false,
     "start_time": "2022-09-02T15:51:44.867550",
     "status": "completed"
    },
    "tags": []
   },
   "outputs": [
    {
     "data": {
      "text/plain": [
       "0    False\n",
       "dtype: object"
      ]
     },
     "execution_count": 27,
     "metadata": {},
     "output_type": "execute_result"
    }
   ],
   "source": [
    "test_data[\"CryoSleep\"].mode()"
   ]
  },
  {
   "cell_type": "code",
   "execution_count": 28,
   "id": "7249efff",
   "metadata": {
    "execution": {
     "iopub.execute_input": "2022-09-02T15:51:44.942657Z",
     "iopub.status.busy": "2022-09-02T15:51:44.942312Z",
     "iopub.status.idle": "2022-09-02T15:51:44.949933Z",
     "shell.execute_reply": "2022-09-02T15:51:44.949032Z"
    },
    "papermill": {
     "duration": 0.034245,
     "end_time": "2022-09-02T15:51:44.951969",
     "exception": false,
     "start_time": "2022-09-02T15:51:44.917724",
     "status": "completed"
    },
    "tags": []
   },
   "outputs": [],
   "source": [
    "test_data[\"HomePlanet\"].fillna(\"Earth\", inplace=True)\n",
    "test_data[\"CryoSleep\"].fillna(False, inplace=True)"
   ]
  },
  {
   "cell_type": "code",
   "execution_count": 29,
   "id": "f9f80572",
   "metadata": {
    "execution": {
     "iopub.execute_input": "2022-09-02T15:51:44.995081Z",
     "iopub.status.busy": "2022-09-02T15:51:44.994003Z",
     "iopub.status.idle": "2022-09-02T15:51:45.003885Z",
     "shell.execute_reply": "2022-09-02T15:51:45.002854Z"
    },
    "papermill": {
     "duration": 0.034264,
     "end_time": "2022-09-02T15:51:45.006046",
     "exception": false,
     "start_time": "2022-09-02T15:51:44.971782",
     "status": "completed"
    },
    "tags": []
   },
   "outputs": [
    {
     "data": {
      "text/plain": [
       "Index(['G/160/P', 'D/273/S', 'B/31/P', 'G/748/S', 'E/228/S', 'A/4/S',\n",
       "       'G/597/P', 'G/73/S', 'F/579/P', 'D/92/P', 'B/214/P', 'G/587/P',\n",
       "       'C/31/S', 'C/177/S', 'B/72/S', 'B/242/P', 'G/737/S', 'G/591/P',\n",
       "       'C/295/P', 'G/1052/P'],\n",
       "      dtype='object')"
      ]
     },
     "execution_count": 29,
     "metadata": {},
     "output_type": "execute_result"
    }
   ],
   "source": [
    "cabin_values = test_data[\"Cabin\"].value_counts().head(20).index\n",
    "cabin_values"
   ]
  },
  {
   "cell_type": "code",
   "execution_count": 30,
   "id": "1d22b191",
   "metadata": {
    "execution": {
     "iopub.execute_input": "2022-09-02T15:51:45.047514Z",
     "iopub.status.busy": "2022-09-02T15:51:45.046915Z",
     "iopub.status.idle": "2022-09-02T15:51:45.052642Z",
     "shell.execute_reply": "2022-09-02T15:51:45.051624Z"
    },
    "papermill": {
     "duration": 0.028658,
     "end_time": "2022-09-02T15:51:45.054651",
     "exception": false,
     "start_time": "2022-09-02T15:51:45.025993",
     "status": "completed"
    },
    "tags": []
   },
   "outputs": [],
   "source": [
    "test_data[\"Cabin\"].fillna(\"missing\", inplace=True)"
   ]
  },
  {
   "cell_type": "code",
   "execution_count": 31,
   "id": "214c7e49",
   "metadata": {
    "execution": {
     "iopub.execute_input": "2022-09-02T15:51:45.097460Z",
     "iopub.status.busy": "2022-09-02T15:51:45.096510Z",
     "iopub.status.idle": "2022-09-02T15:51:45.103491Z",
     "shell.execute_reply": "2022-09-02T15:51:45.102613Z"
    },
    "papermill": {
     "duration": 0.030836,
     "end_time": "2022-09-02T15:51:45.105609",
     "exception": false,
     "start_time": "2022-09-02T15:51:45.074773",
     "status": "completed"
    },
    "tags": []
   },
   "outputs": [],
   "source": [
    "test_data[\"Cabin\"] = test_data[\"Cabin\"].map(\n",
    "    lambda x: random.choice(cabin_values) if x==\"missing\" else x\n",
    ")"
   ]
  },
  {
   "cell_type": "code",
   "execution_count": 32,
   "id": "f68f129d",
   "metadata": {
    "execution": {
     "iopub.execute_input": "2022-09-02T15:51:45.147674Z",
     "iopub.status.busy": "2022-09-02T15:51:45.146721Z",
     "iopub.status.idle": "2022-09-02T15:51:45.154623Z",
     "shell.execute_reply": "2022-09-02T15:51:45.153590Z"
    },
    "papermill": {
     "duration": 0.031188,
     "end_time": "2022-09-02T15:51:45.156658",
     "exception": false,
     "start_time": "2022-09-02T15:51:45.125470",
     "status": "completed"
    },
    "tags": []
   },
   "outputs": [
    {
     "data": {
      "text/plain": [
       "0"
      ]
     },
     "execution_count": 32,
     "metadata": {},
     "output_type": "execute_result"
    }
   ],
   "source": [
    "test_data[\"Cabin\"].isnull().sum()"
   ]
  },
  {
   "cell_type": "code",
   "execution_count": 33,
   "id": "9fa8f05b",
   "metadata": {
    "execution": {
     "iopub.execute_input": "2022-09-02T15:51:45.198994Z",
     "iopub.status.busy": "2022-09-02T15:51:45.198627Z",
     "iopub.status.idle": "2022-09-02T15:51:45.220227Z",
     "shell.execute_reply": "2022-09-02T15:51:45.218922Z"
    },
    "papermill": {
     "duration": 0.045856,
     "end_time": "2022-09-02T15:51:45.223237",
     "exception": false,
     "start_time": "2022-09-02T15:51:45.177381",
     "status": "completed"
    },
    "tags": []
   },
   "outputs": [
    {
     "name": "stdout",
     "output_type": "stream",
     "text": [
      "<class 'pandas.core.frame.DataFrame'>\n",
      "RangeIndex: 4277 entries, 0 to 4276\n",
      "Data columns (total 12 columns):\n",
      " #   Column        Non-Null Count  Dtype  \n",
      "---  ------        --------------  -----  \n",
      " 0   HomePlanet    4277 non-null   object \n",
      " 1   CryoSleep     4277 non-null   bool   \n",
      " 2   Cabin         4277 non-null   object \n",
      " 3   Destination   4185 non-null   object \n",
      " 4   Age           4186 non-null   float64\n",
      " 5   VIP           4184 non-null   object \n",
      " 6   RoomService   4195 non-null   float64\n",
      " 7   FoodCourt     4171 non-null   float64\n",
      " 8   ShoppingMall  4179 non-null   float64\n",
      " 9   Spa           4176 non-null   float64\n",
      " 10  VRDeck        4197 non-null   float64\n",
      " 11  Name          4183 non-null   object \n",
      "dtypes: bool(1), float64(6), object(5)\n",
      "memory usage: 371.9+ KB\n"
     ]
    }
   ],
   "source": [
    "test_data.info()"
   ]
  },
  {
   "cell_type": "code",
   "execution_count": 34,
   "id": "ff2885ae",
   "metadata": {
    "execution": {
     "iopub.execute_input": "2022-09-02T15:51:45.267817Z",
     "iopub.status.busy": "2022-09-02T15:51:45.267465Z",
     "iopub.status.idle": "2022-09-02T15:51:45.276502Z",
     "shell.execute_reply": "2022-09-02T15:51:45.275435Z"
    },
    "papermill": {
     "duration": 0.033454,
     "end_time": "2022-09-02T15:51:45.278658",
     "exception": false,
     "start_time": "2022-09-02T15:51:45.245204",
     "status": "completed"
    },
    "tags": []
   },
   "outputs": [
    {
     "data": {
      "text/plain": [
       "0    TRAPPIST-1e\n",
       "dtype: object"
      ]
     },
     "execution_count": 34,
     "metadata": {},
     "output_type": "execute_result"
    }
   ],
   "source": [
    "test_data[\"Destination\"].mode()"
   ]
  },
  {
   "cell_type": "code",
   "execution_count": 35,
   "id": "7f0b5a33",
   "metadata": {
    "execution": {
     "iopub.execute_input": "2022-09-02T15:51:45.321707Z",
     "iopub.status.busy": "2022-09-02T15:51:45.320744Z",
     "iopub.status.idle": "2022-09-02T15:51:45.326864Z",
     "shell.execute_reply": "2022-09-02T15:51:45.326006Z"
    },
    "papermill": {
     "duration": 0.029715,
     "end_time": "2022-09-02T15:51:45.328925",
     "exception": false,
     "start_time": "2022-09-02T15:51:45.299210",
     "status": "completed"
    },
    "tags": []
   },
   "outputs": [],
   "source": [
    "test_data[\"Destination\"].fillna(\"TRAPPIST-1e\", inplace=True)"
   ]
  },
  {
   "cell_type": "code",
   "execution_count": 36,
   "id": "8401f027",
   "metadata": {
    "execution": {
     "iopub.execute_input": "2022-09-02T15:51:45.371050Z",
     "iopub.status.busy": "2022-09-02T15:51:45.370687Z",
     "iopub.status.idle": "2022-09-02T15:51:45.379567Z",
     "shell.execute_reply": "2022-09-02T15:51:45.378551Z"
    },
    "papermill": {
     "duration": 0.032544,
     "end_time": "2022-09-02T15:51:45.381579",
     "exception": false,
     "start_time": "2022-09-02T15:51:45.349035",
     "status": "completed"
    },
    "tags": []
   },
   "outputs": [
    {
     "data": {
      "text/plain": [
       "26.0"
      ]
     },
     "execution_count": 36,
     "metadata": {},
     "output_type": "execute_result"
    }
   ],
   "source": [
    "test_data[\"Age\"].median()"
   ]
  },
  {
   "cell_type": "code",
   "execution_count": 37,
   "id": "9da00e8a",
   "metadata": {
    "execution": {
     "iopub.execute_input": "2022-09-02T15:51:45.425257Z",
     "iopub.status.busy": "2022-09-02T15:51:45.423516Z",
     "iopub.status.idle": "2022-09-02T15:51:45.430326Z",
     "shell.execute_reply": "2022-09-02T15:51:45.429122Z"
    },
    "papermill": {
     "duration": 0.031152,
     "end_time": "2022-09-02T15:51:45.432924",
     "exception": false,
     "start_time": "2022-09-02T15:51:45.401772",
     "status": "completed"
    },
    "tags": []
   },
   "outputs": [],
   "source": [
    "test_data[\"Age\"].fillna(26, inplace=True)"
   ]
  },
  {
   "cell_type": "code",
   "execution_count": 38,
   "id": "130556dc",
   "metadata": {
    "execution": {
     "iopub.execute_input": "2022-09-02T15:51:45.476675Z",
     "iopub.status.busy": "2022-09-02T15:51:45.474850Z",
     "iopub.status.idle": "2022-09-02T15:51:45.484930Z",
     "shell.execute_reply": "2022-09-02T15:51:45.484026Z"
    },
    "papermill": {
     "duration": 0.034236,
     "end_time": "2022-09-02T15:51:45.487260",
     "exception": false,
     "start_time": "2022-09-02T15:51:45.453024",
     "status": "completed"
    },
    "tags": []
   },
   "outputs": [
    {
     "data": {
      "text/plain": [
       "0    False\n",
       "dtype: object"
      ]
     },
     "execution_count": 38,
     "metadata": {},
     "output_type": "execute_result"
    }
   ],
   "source": [
    "test_data[\"VIP\"].mode()"
   ]
  },
  {
   "cell_type": "code",
   "execution_count": 39,
   "id": "4c792896",
   "metadata": {
    "execution": {
     "iopub.execute_input": "2022-09-02T15:51:45.529891Z",
     "iopub.status.busy": "2022-09-02T15:51:45.529526Z",
     "iopub.status.idle": "2022-09-02T15:51:45.535273Z",
     "shell.execute_reply": "2022-09-02T15:51:45.534297Z"
    },
    "papermill": {
     "duration": 0.029813,
     "end_time": "2022-09-02T15:51:45.537508",
     "exception": false,
     "start_time": "2022-09-02T15:51:45.507695",
     "status": "completed"
    },
    "tags": []
   },
   "outputs": [],
   "source": [
    "test_data[\"VIP\"].fillna(False, inplace=True)"
   ]
  },
  {
   "cell_type": "code",
   "execution_count": 40,
   "id": "25e1a0ea",
   "metadata": {
    "execution": {
     "iopub.execute_input": "2022-09-02T15:51:45.580015Z",
     "iopub.status.busy": "2022-09-02T15:51:45.579661Z",
     "iopub.status.idle": "2022-09-02T15:51:45.593901Z",
     "shell.execute_reply": "2022-09-02T15:51:45.591927Z"
    },
    "papermill": {
     "duration": 0.038572,
     "end_time": "2022-09-02T15:51:45.596142",
     "exception": false,
     "start_time": "2022-09-02T15:51:45.557570",
     "status": "completed"
    },
    "tags": []
   },
   "outputs": [
    {
     "name": "stdout",
     "output_type": "stream",
     "text": [
      "<class 'pandas.core.frame.DataFrame'>\n",
      "RangeIndex: 4277 entries, 0 to 4276\n",
      "Data columns (total 12 columns):\n",
      " #   Column        Non-Null Count  Dtype  \n",
      "---  ------        --------------  -----  \n",
      " 0   HomePlanet    4277 non-null   object \n",
      " 1   CryoSleep     4277 non-null   bool   \n",
      " 2   Cabin         4277 non-null   object \n",
      " 3   Destination   4277 non-null   object \n",
      " 4   Age           4277 non-null   float64\n",
      " 5   VIP           4277 non-null   bool   \n",
      " 6   RoomService   4195 non-null   float64\n",
      " 7   FoodCourt     4171 non-null   float64\n",
      " 8   ShoppingMall  4179 non-null   float64\n",
      " 9   Spa           4176 non-null   float64\n",
      " 10  VRDeck        4197 non-null   float64\n",
      " 11  Name          4183 non-null   object \n",
      "dtypes: bool(2), float64(6), object(4)\n",
      "memory usage: 342.6+ KB\n"
     ]
    }
   ],
   "source": [
    "test_data.info()"
   ]
  },
  {
   "cell_type": "code",
   "execution_count": 41,
   "id": "0528f537",
   "metadata": {
    "execution": {
     "iopub.execute_input": "2022-09-02T15:51:45.640373Z",
     "iopub.status.busy": "2022-09-02T15:51:45.638904Z",
     "iopub.status.idle": "2022-09-02T15:51:45.650357Z",
     "shell.execute_reply": "2022-09-02T15:51:45.649127Z"
    },
    "papermill": {
     "duration": 0.036013,
     "end_time": "2022-09-02T15:51:45.652999",
     "exception": false,
     "start_time": "2022-09-02T15:51:45.616986",
     "status": "completed"
    },
    "tags": []
   },
   "outputs": [
    {
     "data": {
      "text/plain": [
       "0    0.0\n",
       "dtype: float64"
      ]
     },
     "execution_count": 41,
     "metadata": {},
     "output_type": "execute_result"
    }
   ],
   "source": [
    "test_data[\"RoomService\"].mode()"
   ]
  },
  {
   "cell_type": "code",
   "execution_count": 42,
   "id": "5bc65113",
   "metadata": {
    "execution": {
     "iopub.execute_input": "2022-09-02T15:51:45.697131Z",
     "iopub.status.busy": "2022-09-02T15:51:45.696110Z",
     "iopub.status.idle": "2022-09-02T15:51:45.702190Z",
     "shell.execute_reply": "2022-09-02T15:51:45.701179Z"
    },
    "papermill": {
     "duration": 0.029998,
     "end_time": "2022-09-02T15:51:45.704402",
     "exception": false,
     "start_time": "2022-09-02T15:51:45.674404",
     "status": "completed"
    },
    "tags": []
   },
   "outputs": [],
   "source": [
    "test_data[\"RoomService\"].fillna(0, inplace=True)"
   ]
  },
  {
   "cell_type": "code",
   "execution_count": 43,
   "id": "a64a7971",
   "metadata": {
    "execution": {
     "iopub.execute_input": "2022-09-02T15:51:45.748938Z",
     "iopub.status.busy": "2022-09-02T15:51:45.747950Z",
     "iopub.status.idle": "2022-09-02T15:51:45.756921Z",
     "shell.execute_reply": "2022-09-02T15:51:45.755556Z"
    },
    "papermill": {
     "duration": 0.03378,
     "end_time": "2022-09-02T15:51:45.758946",
     "exception": false,
     "start_time": "2022-09-02T15:51:45.725166",
     "status": "completed"
    },
    "tags": []
   },
   "outputs": [
    {
     "data": {
      "text/plain": [
       "0    0.0\n",
       "dtype: float64"
      ]
     },
     "execution_count": 43,
     "metadata": {},
     "output_type": "execute_result"
    }
   ],
   "source": [
    "test_data[\"FoodCourt\"].mode()"
   ]
  },
  {
   "cell_type": "code",
   "execution_count": 44,
   "id": "39d0f658",
   "metadata": {
    "execution": {
     "iopub.execute_input": "2022-09-02T15:51:45.801274Z",
     "iopub.status.busy": "2022-09-02T15:51:45.800398Z",
     "iopub.status.idle": "2022-09-02T15:51:45.805898Z",
     "shell.execute_reply": "2022-09-02T15:51:45.804994Z"
    },
    "papermill": {
     "duration": 0.02892,
     "end_time": "2022-09-02T15:51:45.808166",
     "exception": false,
     "start_time": "2022-09-02T15:51:45.779246",
     "status": "completed"
    },
    "tags": []
   },
   "outputs": [],
   "source": [
    "test_data[\"FoodCourt\"].fillna(0, inplace=True)"
   ]
  },
  {
   "cell_type": "code",
   "execution_count": 45,
   "id": "d8bbea0c",
   "metadata": {
    "execution": {
     "iopub.execute_input": "2022-09-02T15:51:45.852084Z",
     "iopub.status.busy": "2022-09-02T15:51:45.851675Z",
     "iopub.status.idle": "2022-09-02T15:51:45.860098Z",
     "shell.execute_reply": "2022-09-02T15:51:45.859078Z"
    },
    "papermill": {
     "duration": 0.03321,
     "end_time": "2022-09-02T15:51:45.862376",
     "exception": false,
     "start_time": "2022-09-02T15:51:45.829166",
     "status": "completed"
    },
    "tags": []
   },
   "outputs": [
    {
     "data": {
      "text/plain": [
       "0    0.0\n",
       "dtype: float64"
      ]
     },
     "execution_count": 45,
     "metadata": {},
     "output_type": "execute_result"
    }
   ],
   "source": [
    "test_data[\"ShoppingMall\"].mode()"
   ]
  },
  {
   "cell_type": "code",
   "execution_count": 46,
   "id": "e2c24cd4",
   "metadata": {
    "execution": {
     "iopub.execute_input": "2022-09-02T15:51:45.906109Z",
     "iopub.status.busy": "2022-09-02T15:51:45.904999Z",
     "iopub.status.idle": "2022-09-02T15:51:45.910963Z",
     "shell.execute_reply": "2022-09-02T15:51:45.910012Z"
    },
    "papermill": {
     "duration": 0.029698,
     "end_time": "2022-09-02T15:51:45.913223",
     "exception": false,
     "start_time": "2022-09-02T15:51:45.883525",
     "status": "completed"
    },
    "tags": []
   },
   "outputs": [],
   "source": [
    "test_data[\"ShoppingMall\"].fillna(0, inplace=True)"
   ]
  },
  {
   "cell_type": "code",
   "execution_count": 47,
   "id": "d3003003",
   "metadata": {
    "execution": {
     "iopub.execute_input": "2022-09-02T15:51:45.957306Z",
     "iopub.status.busy": "2022-09-02T15:51:45.956400Z",
     "iopub.status.idle": "2022-09-02T15:51:45.964610Z",
     "shell.execute_reply": "2022-09-02T15:51:45.963531Z"
    },
    "papermill": {
     "duration": 0.032023,
     "end_time": "2022-09-02T15:51:45.966829",
     "exception": false,
     "start_time": "2022-09-02T15:51:45.934806",
     "status": "completed"
    },
    "tags": []
   },
   "outputs": [
    {
     "data": {
      "text/plain": [
       "0    0.0\n",
       "dtype: float64"
      ]
     },
     "execution_count": 47,
     "metadata": {},
     "output_type": "execute_result"
    }
   ],
   "source": [
    "test_data[\"Spa\"].mode()"
   ]
  },
  {
   "cell_type": "code",
   "execution_count": 48,
   "id": "9dd5a288",
   "metadata": {
    "execution": {
     "iopub.execute_input": "2022-09-02T15:51:46.011184Z",
     "iopub.status.busy": "2022-09-02T15:51:46.010282Z",
     "iopub.status.idle": "2022-09-02T15:51:46.016652Z",
     "shell.execute_reply": "2022-09-02T15:51:46.015566Z"
    },
    "papermill": {
     "duration": 0.030687,
     "end_time": "2022-09-02T15:51:46.018848",
     "exception": false,
     "start_time": "2022-09-02T15:51:45.988161",
     "status": "completed"
    },
    "tags": []
   },
   "outputs": [],
   "source": [
    "test_data[\"Spa\"].fillna(0, inplace=True)"
   ]
  },
  {
   "cell_type": "code",
   "execution_count": 49,
   "id": "cc3acb2b",
   "metadata": {
    "execution": {
     "iopub.execute_input": "2022-09-02T15:51:46.061620Z",
     "iopub.status.busy": "2022-09-02T15:51:46.060835Z",
     "iopub.status.idle": "2022-09-02T15:51:46.069012Z",
     "shell.execute_reply": "2022-09-02T15:51:46.068018Z"
    },
    "papermill": {
     "duration": 0.031928,
     "end_time": "2022-09-02T15:51:46.071317",
     "exception": false,
     "start_time": "2022-09-02T15:51:46.039389",
     "status": "completed"
    },
    "tags": []
   },
   "outputs": [
    {
     "data": {
      "text/plain": [
       "0    0.0\n",
       "dtype: float64"
      ]
     },
     "execution_count": 49,
     "metadata": {},
     "output_type": "execute_result"
    }
   ],
   "source": [
    "test_data[\"VRDeck\"].mode()"
   ]
  },
  {
   "cell_type": "code",
   "execution_count": 50,
   "id": "25c315d5",
   "metadata": {
    "execution": {
     "iopub.execute_input": "2022-09-02T15:51:46.114804Z",
     "iopub.status.busy": "2022-09-02T15:51:46.114139Z",
     "iopub.status.idle": "2022-09-02T15:51:46.119427Z",
     "shell.execute_reply": "2022-09-02T15:51:46.118370Z"
    },
    "papermill": {
     "duration": 0.029247,
     "end_time": "2022-09-02T15:51:46.121734",
     "exception": false,
     "start_time": "2022-09-02T15:51:46.092487",
     "status": "completed"
    },
    "tags": []
   },
   "outputs": [],
   "source": [
    "test_data[\"VRDeck\"].fillna(0, inplace=True)"
   ]
  },
  {
   "cell_type": "code",
   "execution_count": 51,
   "id": "c414bdb5",
   "metadata": {
    "execution": {
     "iopub.execute_input": "2022-09-02T15:51:46.166135Z",
     "iopub.status.busy": "2022-09-02T15:51:46.164998Z",
     "iopub.status.idle": "2022-09-02T15:51:46.178996Z",
     "shell.execute_reply": "2022-09-02T15:51:46.177120Z"
    },
    "papermill": {
     "duration": 0.038835,
     "end_time": "2022-09-02T15:51:46.181690",
     "exception": false,
     "start_time": "2022-09-02T15:51:46.142855",
     "status": "completed"
    },
    "tags": []
   },
   "outputs": [
    {
     "name": "stdout",
     "output_type": "stream",
     "text": [
      "<class 'pandas.core.frame.DataFrame'>\n",
      "RangeIndex: 4277 entries, 0 to 4276\n",
      "Data columns (total 12 columns):\n",
      " #   Column        Non-Null Count  Dtype  \n",
      "---  ------        --------------  -----  \n",
      " 0   HomePlanet    4277 non-null   object \n",
      " 1   CryoSleep     4277 non-null   bool   \n",
      " 2   Cabin         4277 non-null   object \n",
      " 3   Destination   4277 non-null   object \n",
      " 4   Age           4277 non-null   float64\n",
      " 5   VIP           4277 non-null   bool   \n",
      " 6   RoomService   4277 non-null   float64\n",
      " 7   FoodCourt     4277 non-null   float64\n",
      " 8   ShoppingMall  4277 non-null   float64\n",
      " 9   Spa           4277 non-null   float64\n",
      " 10  VRDeck        4277 non-null   float64\n",
      " 11  Name          4183 non-null   object \n",
      "dtypes: bool(2), float64(6), object(4)\n",
      "memory usage: 342.6+ KB\n"
     ]
    }
   ],
   "source": [
    "test_data.info()"
   ]
  },
  {
   "cell_type": "code",
   "execution_count": 52,
   "id": "29d60ece",
   "metadata": {
    "execution": {
     "iopub.execute_input": "2022-09-02T15:51:46.225401Z",
     "iopub.status.busy": "2022-09-02T15:51:46.225013Z",
     "iopub.status.idle": "2022-09-02T15:51:46.244642Z",
     "shell.execute_reply": "2022-09-02T15:51:46.243523Z"
    },
    "papermill": {
     "duration": 0.043816,
     "end_time": "2022-09-02T15:51:46.246857",
     "exception": false,
     "start_time": "2022-09-02T15:51:46.203041",
     "status": "completed"
    },
    "tags": []
   },
   "outputs": [
    {
     "data": {
      "text/html": [
       "<div>\n",
       "<style scoped>\n",
       "    .dataframe tbody tr th:only-of-type {\n",
       "        vertical-align: middle;\n",
       "    }\n",
       "\n",
       "    .dataframe tbody tr th {\n",
       "        vertical-align: top;\n",
       "    }\n",
       "\n",
       "    .dataframe thead th {\n",
       "        text-align: right;\n",
       "    }\n",
       "</style>\n",
       "<table border=\"1\" class=\"dataframe\">\n",
       "  <thead>\n",
       "    <tr style=\"text-align: right;\">\n",
       "      <th></th>\n",
       "      <th>HomePlanet</th>\n",
       "      <th>CryoSleep</th>\n",
       "      <th>Cabin</th>\n",
       "      <th>Destination</th>\n",
       "      <th>Age</th>\n",
       "      <th>VIP</th>\n",
       "      <th>RoomService</th>\n",
       "      <th>FoodCourt</th>\n",
       "      <th>ShoppingMall</th>\n",
       "      <th>Spa</th>\n",
       "      <th>VRDeck</th>\n",
       "      <th>Name</th>\n",
       "    </tr>\n",
       "  </thead>\n",
       "  <tbody>\n",
       "    <tr>\n",
       "      <th>0</th>\n",
       "      <td>Earth</td>\n",
       "      <td>True</td>\n",
       "      <td>G/3/S</td>\n",
       "      <td>TRAPPIST-1e</td>\n",
       "      <td>27.0</td>\n",
       "      <td>False</td>\n",
       "      <td>0.0</td>\n",
       "      <td>0.0</td>\n",
       "      <td>0.0</td>\n",
       "      <td>0.0</td>\n",
       "      <td>0.0</td>\n",
       "      <td>Nelly Carsoning</td>\n",
       "    </tr>\n",
       "    <tr>\n",
       "      <th>1</th>\n",
       "      <td>Earth</td>\n",
       "      <td>False</td>\n",
       "      <td>F/4/S</td>\n",
       "      <td>TRAPPIST-1e</td>\n",
       "      <td>19.0</td>\n",
       "      <td>False</td>\n",
       "      <td>0.0</td>\n",
       "      <td>9.0</td>\n",
       "      <td>0.0</td>\n",
       "      <td>2823.0</td>\n",
       "      <td>0.0</td>\n",
       "      <td>Lerome Peckers</td>\n",
       "    </tr>\n",
       "    <tr>\n",
       "      <th>2</th>\n",
       "      <td>Europa</td>\n",
       "      <td>True</td>\n",
       "      <td>C/0/S</td>\n",
       "      <td>55 Cancri e</td>\n",
       "      <td>31.0</td>\n",
       "      <td>False</td>\n",
       "      <td>0.0</td>\n",
       "      <td>0.0</td>\n",
       "      <td>0.0</td>\n",
       "      <td>0.0</td>\n",
       "      <td>0.0</td>\n",
       "      <td>Sabih Unhearfus</td>\n",
       "    </tr>\n",
       "    <tr>\n",
       "      <th>3</th>\n",
       "      <td>Europa</td>\n",
       "      <td>False</td>\n",
       "      <td>C/1/S</td>\n",
       "      <td>TRAPPIST-1e</td>\n",
       "      <td>38.0</td>\n",
       "      <td>False</td>\n",
       "      <td>0.0</td>\n",
       "      <td>6652.0</td>\n",
       "      <td>0.0</td>\n",
       "      <td>181.0</td>\n",
       "      <td>585.0</td>\n",
       "      <td>Meratz Caltilter</td>\n",
       "    </tr>\n",
       "    <tr>\n",
       "      <th>4</th>\n",
       "      <td>Earth</td>\n",
       "      <td>False</td>\n",
       "      <td>F/5/S</td>\n",
       "      <td>TRAPPIST-1e</td>\n",
       "      <td>20.0</td>\n",
       "      <td>False</td>\n",
       "      <td>10.0</td>\n",
       "      <td>0.0</td>\n",
       "      <td>635.0</td>\n",
       "      <td>0.0</td>\n",
       "      <td>0.0</td>\n",
       "      <td>Brence Harperez</td>\n",
       "    </tr>\n",
       "  </tbody>\n",
       "</table>\n",
       "</div>"
      ],
      "text/plain": [
       "  HomePlanet  CryoSleep  Cabin  Destination   Age    VIP  RoomService  \\\n",
       "0      Earth       True  G/3/S  TRAPPIST-1e  27.0  False          0.0   \n",
       "1      Earth      False  F/4/S  TRAPPIST-1e  19.0  False          0.0   \n",
       "2     Europa       True  C/0/S  55 Cancri e  31.0  False          0.0   \n",
       "3     Europa      False  C/1/S  TRAPPIST-1e  38.0  False          0.0   \n",
       "4      Earth      False  F/5/S  TRAPPIST-1e  20.0  False         10.0   \n",
       "\n",
       "   FoodCourt  ShoppingMall     Spa  VRDeck              Name  \n",
       "0        0.0           0.0     0.0     0.0   Nelly Carsoning  \n",
       "1        9.0           0.0  2823.0     0.0    Lerome Peckers  \n",
       "2        0.0           0.0     0.0     0.0   Sabih Unhearfus  \n",
       "3     6652.0           0.0   181.0   585.0  Meratz Caltilter  \n",
       "4        0.0         635.0     0.0     0.0   Brence Harperez  "
      ]
     },
     "execution_count": 52,
     "metadata": {},
     "output_type": "execute_result"
    }
   ],
   "source": [
    "test_data.head()"
   ]
  },
  {
   "cell_type": "code",
   "execution_count": 53,
   "id": "57f6479a",
   "metadata": {
    "execution": {
     "iopub.execute_input": "2022-09-02T15:51:46.290836Z",
     "iopub.status.busy": "2022-09-02T15:51:46.290489Z",
     "iopub.status.idle": "2022-09-02T15:51:46.298241Z",
     "shell.execute_reply": "2022-09-02T15:51:46.297127Z"
    },
    "papermill": {
     "duration": 0.032626,
     "end_time": "2022-09-02T15:51:46.300752",
     "exception": false,
     "start_time": "2022-09-02T15:51:46.268126",
     "status": "completed"
    },
    "tags": []
   },
   "outputs": [],
   "source": [
    "test_data[\"CryoSleep\"].replace({True:1, False:0}, inplace=True)"
   ]
  },
  {
   "cell_type": "code",
   "execution_count": 54,
   "id": "9a4110be",
   "metadata": {
    "execution": {
     "iopub.execute_input": "2022-09-02T15:51:46.345700Z",
     "iopub.status.busy": "2022-09-02T15:51:46.345326Z",
     "iopub.status.idle": "2022-09-02T15:51:46.364282Z",
     "shell.execute_reply": "2022-09-02T15:51:46.363123Z"
    },
    "papermill": {
     "duration": 0.045487,
     "end_time": "2022-09-02T15:51:46.367394",
     "exception": false,
     "start_time": "2022-09-02T15:51:46.321907",
     "status": "completed"
    },
    "tags": []
   },
   "outputs": [
    {
     "data": {
      "text/html": [
       "<div>\n",
       "<style scoped>\n",
       "    .dataframe tbody tr th:only-of-type {\n",
       "        vertical-align: middle;\n",
       "    }\n",
       "\n",
       "    .dataframe tbody tr th {\n",
       "        vertical-align: top;\n",
       "    }\n",
       "\n",
       "    .dataframe thead th {\n",
       "        text-align: right;\n",
       "    }\n",
       "</style>\n",
       "<table border=\"1\" class=\"dataframe\">\n",
       "  <thead>\n",
       "    <tr style=\"text-align: right;\">\n",
       "      <th></th>\n",
       "      <th>HomePlanet</th>\n",
       "      <th>CryoSleep</th>\n",
       "      <th>Cabin</th>\n",
       "      <th>Destination</th>\n",
       "      <th>Age</th>\n",
       "      <th>VIP</th>\n",
       "      <th>RoomService</th>\n",
       "      <th>FoodCourt</th>\n",
       "      <th>ShoppingMall</th>\n",
       "      <th>Spa</th>\n",
       "      <th>VRDeck</th>\n",
       "      <th>Name</th>\n",
       "    </tr>\n",
       "  </thead>\n",
       "  <tbody>\n",
       "    <tr>\n",
       "      <th>0</th>\n",
       "      <td>Earth</td>\n",
       "      <td>1</td>\n",
       "      <td>G/3/S</td>\n",
       "      <td>TRAPPIST-1e</td>\n",
       "      <td>27.0</td>\n",
       "      <td>False</td>\n",
       "      <td>0.0</td>\n",
       "      <td>0.0</td>\n",
       "      <td>0.0</td>\n",
       "      <td>0.0</td>\n",
       "      <td>0.0</td>\n",
       "      <td>Nelly Carsoning</td>\n",
       "    </tr>\n",
       "    <tr>\n",
       "      <th>1</th>\n",
       "      <td>Earth</td>\n",
       "      <td>0</td>\n",
       "      <td>F/4/S</td>\n",
       "      <td>TRAPPIST-1e</td>\n",
       "      <td>19.0</td>\n",
       "      <td>False</td>\n",
       "      <td>0.0</td>\n",
       "      <td>9.0</td>\n",
       "      <td>0.0</td>\n",
       "      <td>2823.0</td>\n",
       "      <td>0.0</td>\n",
       "      <td>Lerome Peckers</td>\n",
       "    </tr>\n",
       "    <tr>\n",
       "      <th>2</th>\n",
       "      <td>Europa</td>\n",
       "      <td>1</td>\n",
       "      <td>C/0/S</td>\n",
       "      <td>55 Cancri e</td>\n",
       "      <td>31.0</td>\n",
       "      <td>False</td>\n",
       "      <td>0.0</td>\n",
       "      <td>0.0</td>\n",
       "      <td>0.0</td>\n",
       "      <td>0.0</td>\n",
       "      <td>0.0</td>\n",
       "      <td>Sabih Unhearfus</td>\n",
       "    </tr>\n",
       "    <tr>\n",
       "      <th>3</th>\n",
       "      <td>Europa</td>\n",
       "      <td>0</td>\n",
       "      <td>C/1/S</td>\n",
       "      <td>TRAPPIST-1e</td>\n",
       "      <td>38.0</td>\n",
       "      <td>False</td>\n",
       "      <td>0.0</td>\n",
       "      <td>6652.0</td>\n",
       "      <td>0.0</td>\n",
       "      <td>181.0</td>\n",
       "      <td>585.0</td>\n",
       "      <td>Meratz Caltilter</td>\n",
       "    </tr>\n",
       "    <tr>\n",
       "      <th>4</th>\n",
       "      <td>Earth</td>\n",
       "      <td>0</td>\n",
       "      <td>F/5/S</td>\n",
       "      <td>TRAPPIST-1e</td>\n",
       "      <td>20.0</td>\n",
       "      <td>False</td>\n",
       "      <td>10.0</td>\n",
       "      <td>0.0</td>\n",
       "      <td>635.0</td>\n",
       "      <td>0.0</td>\n",
       "      <td>0.0</td>\n",
       "      <td>Brence Harperez</td>\n",
       "    </tr>\n",
       "  </tbody>\n",
       "</table>\n",
       "</div>"
      ],
      "text/plain": [
       "  HomePlanet  CryoSleep  Cabin  Destination   Age    VIP  RoomService  \\\n",
       "0      Earth          1  G/3/S  TRAPPIST-1e  27.0  False          0.0   \n",
       "1      Earth          0  F/4/S  TRAPPIST-1e  19.0  False          0.0   \n",
       "2     Europa          1  C/0/S  55 Cancri e  31.0  False          0.0   \n",
       "3     Europa          0  C/1/S  TRAPPIST-1e  38.0  False          0.0   \n",
       "4      Earth          0  F/5/S  TRAPPIST-1e  20.0  False         10.0   \n",
       "\n",
       "   FoodCourt  ShoppingMall     Spa  VRDeck              Name  \n",
       "0        0.0           0.0     0.0     0.0   Nelly Carsoning  \n",
       "1        9.0           0.0  2823.0     0.0    Lerome Peckers  \n",
       "2        0.0           0.0     0.0     0.0   Sabih Unhearfus  \n",
       "3     6652.0           0.0   181.0   585.0  Meratz Caltilter  \n",
       "4        0.0         635.0     0.0     0.0   Brence Harperez  "
      ]
     },
     "execution_count": 54,
     "metadata": {},
     "output_type": "execute_result"
    }
   ],
   "source": [
    "test_data.head()"
   ]
  },
  {
   "cell_type": "code",
   "execution_count": 55,
   "id": "be278c94",
   "metadata": {
    "execution": {
     "iopub.execute_input": "2022-09-02T15:51:46.411935Z",
     "iopub.status.busy": "2022-09-02T15:51:46.411010Z",
     "iopub.status.idle": "2022-09-02T15:51:46.418843Z",
     "shell.execute_reply": "2022-09-02T15:51:46.417945Z"
    },
    "papermill": {
     "duration": 0.031654,
     "end_time": "2022-09-02T15:51:46.420901",
     "exception": false,
     "start_time": "2022-09-02T15:51:46.389247",
     "status": "completed"
    },
    "tags": []
   },
   "outputs": [],
   "source": [
    "test_data[\"VIP\"].replace({True:1, False:0}, inplace=True)"
   ]
  },
  {
   "cell_type": "code",
   "execution_count": 56,
   "id": "bec5493c",
   "metadata": {
    "execution": {
     "iopub.execute_input": "2022-09-02T15:51:46.465483Z",
     "iopub.status.busy": "2022-09-02T15:51:46.464927Z",
     "iopub.status.idle": "2022-09-02T15:51:46.481866Z",
     "shell.execute_reply": "2022-09-02T15:51:46.480853Z"
    },
    "papermill": {
     "duration": 0.042025,
     "end_time": "2022-09-02T15:51:46.484069",
     "exception": false,
     "start_time": "2022-09-02T15:51:46.442044",
     "status": "completed"
    },
    "tags": []
   },
   "outputs": [
    {
     "data": {
      "text/html": [
       "<div>\n",
       "<style scoped>\n",
       "    .dataframe tbody tr th:only-of-type {\n",
       "        vertical-align: middle;\n",
       "    }\n",
       "\n",
       "    .dataframe tbody tr th {\n",
       "        vertical-align: top;\n",
       "    }\n",
       "\n",
       "    .dataframe thead th {\n",
       "        text-align: right;\n",
       "    }\n",
       "</style>\n",
       "<table border=\"1\" class=\"dataframe\">\n",
       "  <thead>\n",
       "    <tr style=\"text-align: right;\">\n",
       "      <th></th>\n",
       "      <th>HomePlanet</th>\n",
       "      <th>CryoSleep</th>\n",
       "      <th>Cabin</th>\n",
       "      <th>Destination</th>\n",
       "      <th>Age</th>\n",
       "      <th>VIP</th>\n",
       "      <th>RoomService</th>\n",
       "      <th>FoodCourt</th>\n",
       "      <th>ShoppingMall</th>\n",
       "      <th>Spa</th>\n",
       "      <th>VRDeck</th>\n",
       "      <th>Name</th>\n",
       "    </tr>\n",
       "  </thead>\n",
       "  <tbody>\n",
       "    <tr>\n",
       "      <th>0</th>\n",
       "      <td>Earth</td>\n",
       "      <td>1</td>\n",
       "      <td>G/3/S</td>\n",
       "      <td>TRAPPIST-1e</td>\n",
       "      <td>27.0</td>\n",
       "      <td>0</td>\n",
       "      <td>0.0</td>\n",
       "      <td>0.0</td>\n",
       "      <td>0.0</td>\n",
       "      <td>0.0</td>\n",
       "      <td>0.0</td>\n",
       "      <td>Nelly Carsoning</td>\n",
       "    </tr>\n",
       "    <tr>\n",
       "      <th>1</th>\n",
       "      <td>Earth</td>\n",
       "      <td>0</td>\n",
       "      <td>F/4/S</td>\n",
       "      <td>TRAPPIST-1e</td>\n",
       "      <td>19.0</td>\n",
       "      <td>0</td>\n",
       "      <td>0.0</td>\n",
       "      <td>9.0</td>\n",
       "      <td>0.0</td>\n",
       "      <td>2823.0</td>\n",
       "      <td>0.0</td>\n",
       "      <td>Lerome Peckers</td>\n",
       "    </tr>\n",
       "    <tr>\n",
       "      <th>2</th>\n",
       "      <td>Europa</td>\n",
       "      <td>1</td>\n",
       "      <td>C/0/S</td>\n",
       "      <td>55 Cancri e</td>\n",
       "      <td>31.0</td>\n",
       "      <td>0</td>\n",
       "      <td>0.0</td>\n",
       "      <td>0.0</td>\n",
       "      <td>0.0</td>\n",
       "      <td>0.0</td>\n",
       "      <td>0.0</td>\n",
       "      <td>Sabih Unhearfus</td>\n",
       "    </tr>\n",
       "    <tr>\n",
       "      <th>3</th>\n",
       "      <td>Europa</td>\n",
       "      <td>0</td>\n",
       "      <td>C/1/S</td>\n",
       "      <td>TRAPPIST-1e</td>\n",
       "      <td>38.0</td>\n",
       "      <td>0</td>\n",
       "      <td>0.0</td>\n",
       "      <td>6652.0</td>\n",
       "      <td>0.0</td>\n",
       "      <td>181.0</td>\n",
       "      <td>585.0</td>\n",
       "      <td>Meratz Caltilter</td>\n",
       "    </tr>\n",
       "    <tr>\n",
       "      <th>4</th>\n",
       "      <td>Earth</td>\n",
       "      <td>0</td>\n",
       "      <td>F/5/S</td>\n",
       "      <td>TRAPPIST-1e</td>\n",
       "      <td>20.0</td>\n",
       "      <td>0</td>\n",
       "      <td>10.0</td>\n",
       "      <td>0.0</td>\n",
       "      <td>635.0</td>\n",
       "      <td>0.0</td>\n",
       "      <td>0.0</td>\n",
       "      <td>Brence Harperez</td>\n",
       "    </tr>\n",
       "  </tbody>\n",
       "</table>\n",
       "</div>"
      ],
      "text/plain": [
       "  HomePlanet  CryoSleep  Cabin  Destination   Age  VIP  RoomService  \\\n",
       "0      Earth          1  G/3/S  TRAPPIST-1e  27.0    0          0.0   \n",
       "1      Earth          0  F/4/S  TRAPPIST-1e  19.0    0          0.0   \n",
       "2     Europa          1  C/0/S  55 Cancri e  31.0    0          0.0   \n",
       "3     Europa          0  C/1/S  TRAPPIST-1e  38.0    0          0.0   \n",
       "4      Earth          0  F/5/S  TRAPPIST-1e  20.0    0         10.0   \n",
       "\n",
       "   FoodCourt  ShoppingMall     Spa  VRDeck              Name  \n",
       "0        0.0           0.0     0.0     0.0   Nelly Carsoning  \n",
       "1        9.0           0.0  2823.0     0.0    Lerome Peckers  \n",
       "2        0.0           0.0     0.0     0.0   Sabih Unhearfus  \n",
       "3     6652.0           0.0   181.0   585.0  Meratz Caltilter  \n",
       "4        0.0         635.0     0.0     0.0   Brence Harperez  "
      ]
     },
     "execution_count": 56,
     "metadata": {},
     "output_type": "execute_result"
    }
   ],
   "source": [
    "test_data.head()"
   ]
  },
  {
   "cell_type": "code",
   "execution_count": 57,
   "id": "cdd09a41",
   "metadata": {
    "execution": {
     "iopub.execute_input": "2022-09-02T15:51:46.529251Z",
     "iopub.status.busy": "2022-09-02T15:51:46.528875Z",
     "iopub.status.idle": "2022-09-02T15:51:46.537198Z",
     "shell.execute_reply": "2022-09-02T15:51:46.536324Z"
    },
    "papermill": {
     "duration": 0.033505,
     "end_time": "2022-09-02T15:51:46.539309",
     "exception": false,
     "start_time": "2022-09-02T15:51:46.505804",
     "status": "completed"
    },
    "tags": []
   },
   "outputs": [],
   "source": [
    "test_data[\"Expense\"] = test_data[\n",
    "    [\"FoodCourt\", \"RoomService\", \"ShoppingMall\", \"Spa\", \"VRDeck\"]\n",
    "].sum(axis=1)"
   ]
  },
  {
   "cell_type": "code",
   "execution_count": 58,
   "id": "d64c5cf0",
   "metadata": {
    "execution": {
     "iopub.execute_input": "2022-09-02T15:51:46.583874Z",
     "iopub.status.busy": "2022-09-02T15:51:46.583281Z",
     "iopub.status.idle": "2022-09-02T15:51:46.611317Z",
     "shell.execute_reply": "2022-09-02T15:51:46.610384Z"
    },
    "papermill": {
     "duration": 0.052731,
     "end_time": "2022-09-02T15:51:46.613582",
     "exception": false,
     "start_time": "2022-09-02T15:51:46.560851",
     "status": "completed"
    },
    "tags": []
   },
   "outputs": [
    {
     "data": {
      "text/html": [
       "<div>\n",
       "<style scoped>\n",
       "    .dataframe tbody tr th:only-of-type {\n",
       "        vertical-align: middle;\n",
       "    }\n",
       "\n",
       "    .dataframe tbody tr th {\n",
       "        vertical-align: top;\n",
       "    }\n",
       "\n",
       "    .dataframe thead th {\n",
       "        text-align: right;\n",
       "    }\n",
       "</style>\n",
       "<table border=\"1\" class=\"dataframe\">\n",
       "  <thead>\n",
       "    <tr style=\"text-align: right;\">\n",
       "      <th></th>\n",
       "      <th>HomePlanet</th>\n",
       "      <th>CryoSleep</th>\n",
       "      <th>Cabin</th>\n",
       "      <th>Destination</th>\n",
       "      <th>Age</th>\n",
       "      <th>VIP</th>\n",
       "      <th>RoomService</th>\n",
       "      <th>FoodCourt</th>\n",
       "      <th>ShoppingMall</th>\n",
       "      <th>Spa</th>\n",
       "      <th>VRDeck</th>\n",
       "      <th>Name</th>\n",
       "      <th>Expense</th>\n",
       "      <th>Cabin_deck</th>\n",
       "      <th>Cabin_num</th>\n",
       "      <th>Cabin_side</th>\n",
       "    </tr>\n",
       "  </thead>\n",
       "  <tbody>\n",
       "    <tr>\n",
       "      <th>0</th>\n",
       "      <td>Earth</td>\n",
       "      <td>1</td>\n",
       "      <td>G/3/S</td>\n",
       "      <td>TRAPPIST-1e</td>\n",
       "      <td>27.0</td>\n",
       "      <td>0</td>\n",
       "      <td>0.0</td>\n",
       "      <td>0.0</td>\n",
       "      <td>0.0</td>\n",
       "      <td>0.0</td>\n",
       "      <td>0.0</td>\n",
       "      <td>Nelly Carsoning</td>\n",
       "      <td>0.0</td>\n",
       "      <td>G</td>\n",
       "      <td>3</td>\n",
       "      <td>S</td>\n",
       "    </tr>\n",
       "    <tr>\n",
       "      <th>1</th>\n",
       "      <td>Earth</td>\n",
       "      <td>0</td>\n",
       "      <td>F/4/S</td>\n",
       "      <td>TRAPPIST-1e</td>\n",
       "      <td>19.0</td>\n",
       "      <td>0</td>\n",
       "      <td>0.0</td>\n",
       "      <td>9.0</td>\n",
       "      <td>0.0</td>\n",
       "      <td>2823.0</td>\n",
       "      <td>0.0</td>\n",
       "      <td>Lerome Peckers</td>\n",
       "      <td>2832.0</td>\n",
       "      <td>F</td>\n",
       "      <td>4</td>\n",
       "      <td>S</td>\n",
       "    </tr>\n",
       "    <tr>\n",
       "      <th>2</th>\n",
       "      <td>Europa</td>\n",
       "      <td>1</td>\n",
       "      <td>C/0/S</td>\n",
       "      <td>55 Cancri e</td>\n",
       "      <td>31.0</td>\n",
       "      <td>0</td>\n",
       "      <td>0.0</td>\n",
       "      <td>0.0</td>\n",
       "      <td>0.0</td>\n",
       "      <td>0.0</td>\n",
       "      <td>0.0</td>\n",
       "      <td>Sabih Unhearfus</td>\n",
       "      <td>0.0</td>\n",
       "      <td>C</td>\n",
       "      <td>0</td>\n",
       "      <td>S</td>\n",
       "    </tr>\n",
       "    <tr>\n",
       "      <th>3</th>\n",
       "      <td>Europa</td>\n",
       "      <td>0</td>\n",
       "      <td>C/1/S</td>\n",
       "      <td>TRAPPIST-1e</td>\n",
       "      <td>38.0</td>\n",
       "      <td>0</td>\n",
       "      <td>0.0</td>\n",
       "      <td>6652.0</td>\n",
       "      <td>0.0</td>\n",
       "      <td>181.0</td>\n",
       "      <td>585.0</td>\n",
       "      <td>Meratz Caltilter</td>\n",
       "      <td>7418.0</td>\n",
       "      <td>C</td>\n",
       "      <td>1</td>\n",
       "      <td>S</td>\n",
       "    </tr>\n",
       "    <tr>\n",
       "      <th>4</th>\n",
       "      <td>Earth</td>\n",
       "      <td>0</td>\n",
       "      <td>F/5/S</td>\n",
       "      <td>TRAPPIST-1e</td>\n",
       "      <td>20.0</td>\n",
       "      <td>0</td>\n",
       "      <td>10.0</td>\n",
       "      <td>0.0</td>\n",
       "      <td>635.0</td>\n",
       "      <td>0.0</td>\n",
       "      <td>0.0</td>\n",
       "      <td>Brence Harperez</td>\n",
       "      <td>645.0</td>\n",
       "      <td>F</td>\n",
       "      <td>5</td>\n",
       "      <td>S</td>\n",
       "    </tr>\n",
       "  </tbody>\n",
       "</table>\n",
       "</div>"
      ],
      "text/plain": [
       "  HomePlanet  CryoSleep  Cabin  Destination   Age  VIP  RoomService  \\\n",
       "0      Earth          1  G/3/S  TRAPPIST-1e  27.0    0          0.0   \n",
       "1      Earth          0  F/4/S  TRAPPIST-1e  19.0    0          0.0   \n",
       "2     Europa          1  C/0/S  55 Cancri e  31.0    0          0.0   \n",
       "3     Europa          0  C/1/S  TRAPPIST-1e  38.0    0          0.0   \n",
       "4      Earth          0  F/5/S  TRAPPIST-1e  20.0    0         10.0   \n",
       "\n",
       "   FoodCourt  ShoppingMall     Spa  VRDeck              Name  Expense  \\\n",
       "0        0.0           0.0     0.0     0.0   Nelly Carsoning      0.0   \n",
       "1        9.0           0.0  2823.0     0.0    Lerome Peckers   2832.0   \n",
       "2        0.0           0.0     0.0     0.0   Sabih Unhearfus      0.0   \n",
       "3     6652.0           0.0   181.0   585.0  Meratz Caltilter   7418.0   \n",
       "4        0.0         635.0     0.0     0.0   Brence Harperez    645.0   \n",
       "\n",
       "  Cabin_deck Cabin_num Cabin_side  \n",
       "0          G         3          S  \n",
       "1          F         4          S  \n",
       "2          C         0          S  \n",
       "3          C         1          S  \n",
       "4          F         5          S  "
      ]
     },
     "execution_count": 58,
     "metadata": {},
     "output_type": "execute_result"
    }
   ],
   "source": [
    "test_data[[\"Cabin_deck\", \"Cabin_num\", \"Cabin_side\"]] = test_data[\"Cabin\"].str.split(\"/\", expand=True)\n",
    "test_data.head()"
   ]
  },
  {
   "cell_type": "code",
   "execution_count": 59,
   "id": "1692db09",
   "metadata": {
    "execution": {
     "iopub.execute_input": "2022-09-02T15:51:46.659430Z",
     "iopub.status.busy": "2022-09-02T15:51:46.659033Z",
     "iopub.status.idle": "2022-09-02T15:51:46.665022Z",
     "shell.execute_reply": "2022-09-02T15:51:46.664036Z"
    },
    "papermill": {
     "duration": 0.03144,
     "end_time": "2022-09-02T15:51:46.667045",
     "exception": false,
     "start_time": "2022-09-02T15:51:46.635605",
     "status": "completed"
    },
    "tags": []
   },
   "outputs": [],
   "source": [
    "test_data[\"Cabin_num\"] = test_data[\"Cabin_num\"].astype(int)"
   ]
  },
  {
   "cell_type": "code",
   "execution_count": 60,
   "id": "5ebb03d4",
   "metadata": {
    "execution": {
     "iopub.execute_input": "2022-09-02T15:51:46.712640Z",
     "iopub.status.busy": "2022-09-02T15:51:46.711592Z",
     "iopub.status.idle": "2022-09-02T15:51:46.738158Z",
     "shell.execute_reply": "2022-09-02T15:51:46.737133Z"
    },
    "papermill": {
     "duration": 0.051797,
     "end_time": "2022-09-02T15:51:46.740623",
     "exception": false,
     "start_time": "2022-09-02T15:51:46.688826",
     "status": "completed"
    },
    "tags": []
   },
   "outputs": [
    {
     "data": {
      "text/html": [
       "<div>\n",
       "<style scoped>\n",
       "    .dataframe tbody tr th:only-of-type {\n",
       "        vertical-align: middle;\n",
       "    }\n",
       "\n",
       "    .dataframe tbody tr th {\n",
       "        vertical-align: top;\n",
       "    }\n",
       "\n",
       "    .dataframe thead th {\n",
       "        text-align: right;\n",
       "    }\n",
       "</style>\n",
       "<table border=\"1\" class=\"dataframe\">\n",
       "  <thead>\n",
       "    <tr style=\"text-align: right;\">\n",
       "      <th></th>\n",
       "      <th>HomePlanet</th>\n",
       "      <th>CryoSleep</th>\n",
       "      <th>Cabin</th>\n",
       "      <th>Destination</th>\n",
       "      <th>Age</th>\n",
       "      <th>VIP</th>\n",
       "      <th>RoomService</th>\n",
       "      <th>FoodCourt</th>\n",
       "      <th>ShoppingMall</th>\n",
       "      <th>Spa</th>\n",
       "      <th>VRDeck</th>\n",
       "      <th>Name</th>\n",
       "      <th>Expense</th>\n",
       "      <th>Cabin_deck</th>\n",
       "      <th>Cabin_num</th>\n",
       "      <th>Cabin_side</th>\n",
       "      <th>HomePlanet_Earth</th>\n",
       "      <th>HomePlanet_Europa</th>\n",
       "      <th>HomePlanet_Mars</th>\n",
       "    </tr>\n",
       "  </thead>\n",
       "  <tbody>\n",
       "    <tr>\n",
       "      <th>0</th>\n",
       "      <td>Earth</td>\n",
       "      <td>1</td>\n",
       "      <td>G/3/S</td>\n",
       "      <td>TRAPPIST-1e</td>\n",
       "      <td>27.0</td>\n",
       "      <td>0</td>\n",
       "      <td>0.0</td>\n",
       "      <td>0.0</td>\n",
       "      <td>0.0</td>\n",
       "      <td>0.0</td>\n",
       "      <td>0.0</td>\n",
       "      <td>Nelly Carsoning</td>\n",
       "      <td>0.0</td>\n",
       "      <td>G</td>\n",
       "      <td>3</td>\n",
       "      <td>S</td>\n",
       "      <td>1</td>\n",
       "      <td>0</td>\n",
       "      <td>0</td>\n",
       "    </tr>\n",
       "    <tr>\n",
       "      <th>1</th>\n",
       "      <td>Earth</td>\n",
       "      <td>0</td>\n",
       "      <td>F/4/S</td>\n",
       "      <td>TRAPPIST-1e</td>\n",
       "      <td>19.0</td>\n",
       "      <td>0</td>\n",
       "      <td>0.0</td>\n",
       "      <td>9.0</td>\n",
       "      <td>0.0</td>\n",
       "      <td>2823.0</td>\n",
       "      <td>0.0</td>\n",
       "      <td>Lerome Peckers</td>\n",
       "      <td>2832.0</td>\n",
       "      <td>F</td>\n",
       "      <td>4</td>\n",
       "      <td>S</td>\n",
       "      <td>1</td>\n",
       "      <td>0</td>\n",
       "      <td>0</td>\n",
       "    </tr>\n",
       "    <tr>\n",
       "      <th>2</th>\n",
       "      <td>Europa</td>\n",
       "      <td>1</td>\n",
       "      <td>C/0/S</td>\n",
       "      <td>55 Cancri e</td>\n",
       "      <td>31.0</td>\n",
       "      <td>0</td>\n",
       "      <td>0.0</td>\n",
       "      <td>0.0</td>\n",
       "      <td>0.0</td>\n",
       "      <td>0.0</td>\n",
       "      <td>0.0</td>\n",
       "      <td>Sabih Unhearfus</td>\n",
       "      <td>0.0</td>\n",
       "      <td>C</td>\n",
       "      <td>0</td>\n",
       "      <td>S</td>\n",
       "      <td>0</td>\n",
       "      <td>1</td>\n",
       "      <td>0</td>\n",
       "    </tr>\n",
       "    <tr>\n",
       "      <th>3</th>\n",
       "      <td>Europa</td>\n",
       "      <td>0</td>\n",
       "      <td>C/1/S</td>\n",
       "      <td>TRAPPIST-1e</td>\n",
       "      <td>38.0</td>\n",
       "      <td>0</td>\n",
       "      <td>0.0</td>\n",
       "      <td>6652.0</td>\n",
       "      <td>0.0</td>\n",
       "      <td>181.0</td>\n",
       "      <td>585.0</td>\n",
       "      <td>Meratz Caltilter</td>\n",
       "      <td>7418.0</td>\n",
       "      <td>C</td>\n",
       "      <td>1</td>\n",
       "      <td>S</td>\n",
       "      <td>0</td>\n",
       "      <td>1</td>\n",
       "      <td>0</td>\n",
       "    </tr>\n",
       "    <tr>\n",
       "      <th>4</th>\n",
       "      <td>Earth</td>\n",
       "      <td>0</td>\n",
       "      <td>F/5/S</td>\n",
       "      <td>TRAPPIST-1e</td>\n",
       "      <td>20.0</td>\n",
       "      <td>0</td>\n",
       "      <td>10.0</td>\n",
       "      <td>0.0</td>\n",
       "      <td>635.0</td>\n",
       "      <td>0.0</td>\n",
       "      <td>0.0</td>\n",
       "      <td>Brence Harperez</td>\n",
       "      <td>645.0</td>\n",
       "      <td>F</td>\n",
       "      <td>5</td>\n",
       "      <td>S</td>\n",
       "      <td>1</td>\n",
       "      <td>0</td>\n",
       "      <td>0</td>\n",
       "    </tr>\n",
       "  </tbody>\n",
       "</table>\n",
       "</div>"
      ],
      "text/plain": [
       "  HomePlanet  CryoSleep  Cabin  Destination   Age  VIP  RoomService  \\\n",
       "0      Earth          1  G/3/S  TRAPPIST-1e  27.0    0          0.0   \n",
       "1      Earth          0  F/4/S  TRAPPIST-1e  19.0    0          0.0   \n",
       "2     Europa          1  C/0/S  55 Cancri e  31.0    0          0.0   \n",
       "3     Europa          0  C/1/S  TRAPPIST-1e  38.0    0          0.0   \n",
       "4      Earth          0  F/5/S  TRAPPIST-1e  20.0    0         10.0   \n",
       "\n",
       "   FoodCourt  ShoppingMall     Spa  VRDeck              Name  Expense  \\\n",
       "0        0.0           0.0     0.0     0.0   Nelly Carsoning      0.0   \n",
       "1        9.0           0.0  2823.0     0.0    Lerome Peckers   2832.0   \n",
       "2        0.0           0.0     0.0     0.0   Sabih Unhearfus      0.0   \n",
       "3     6652.0           0.0   181.0   585.0  Meratz Caltilter   7418.0   \n",
       "4        0.0         635.0     0.0     0.0   Brence Harperez    645.0   \n",
       "\n",
       "  Cabin_deck  Cabin_num Cabin_side  HomePlanet_Earth  HomePlanet_Europa  \\\n",
       "0          G          3          S                 1                  0   \n",
       "1          F          4          S                 1                  0   \n",
       "2          C          0          S                 0                  1   \n",
       "3          C          1          S                 0                  1   \n",
       "4          F          5          S                 1                  0   \n",
       "\n",
       "   HomePlanet_Mars  \n",
       "0                0  \n",
       "1                0  \n",
       "2                0  \n",
       "3                0  \n",
       "4                0  "
      ]
     },
     "execution_count": 60,
     "metadata": {},
     "output_type": "execute_result"
    }
   ],
   "source": [
    "home_planet_dummies = pd.get_dummies(test_data[\"HomePlanet\"], prefix=\"HomePlanet\")\n",
    "test_data = test_data.join(home_planet_dummies)\n",
    "test_data.head()"
   ]
  },
  {
   "cell_type": "code",
   "execution_count": 61,
   "id": "db7bd306",
   "metadata": {
    "execution": {
     "iopub.execute_input": "2022-09-02T15:51:46.788078Z",
     "iopub.status.busy": "2022-09-02T15:51:46.787181Z",
     "iopub.status.idle": "2022-09-02T15:51:46.811553Z",
     "shell.execute_reply": "2022-09-02T15:51:46.810519Z"
    },
    "papermill": {
     "duration": 0.050351,
     "end_time": "2022-09-02T15:51:46.813764",
     "exception": false,
     "start_time": "2022-09-02T15:51:46.763413",
     "status": "completed"
    },
    "tags": []
   },
   "outputs": [
    {
     "data": {
      "text/html": [
       "<div>\n",
       "<style scoped>\n",
       "    .dataframe tbody tr th:only-of-type {\n",
       "        vertical-align: middle;\n",
       "    }\n",
       "\n",
       "    .dataframe tbody tr th {\n",
       "        vertical-align: top;\n",
       "    }\n",
       "\n",
       "    .dataframe thead th {\n",
       "        text-align: right;\n",
       "    }\n",
       "</style>\n",
       "<table border=\"1\" class=\"dataframe\">\n",
       "  <thead>\n",
       "    <tr style=\"text-align: right;\">\n",
       "      <th></th>\n",
       "      <th>HomePlanet</th>\n",
       "      <th>CryoSleep</th>\n",
       "      <th>Cabin</th>\n",
       "      <th>Destination</th>\n",
       "      <th>Age</th>\n",
       "      <th>VIP</th>\n",
       "      <th>RoomService</th>\n",
       "      <th>FoodCourt</th>\n",
       "      <th>ShoppingMall</th>\n",
       "      <th>Spa</th>\n",
       "      <th>...</th>\n",
       "      <th>Expense</th>\n",
       "      <th>Cabin_deck</th>\n",
       "      <th>Cabin_num</th>\n",
       "      <th>Cabin_side</th>\n",
       "      <th>HomePlanet_Earth</th>\n",
       "      <th>HomePlanet_Europa</th>\n",
       "      <th>HomePlanet_Mars</th>\n",
       "      <th>Destination_55 Cancri e</th>\n",
       "      <th>Destination_PSO J318.5-22</th>\n",
       "      <th>Destination_TRAPPIST-1e</th>\n",
       "    </tr>\n",
       "  </thead>\n",
       "  <tbody>\n",
       "    <tr>\n",
       "      <th>0</th>\n",
       "      <td>Earth</td>\n",
       "      <td>1</td>\n",
       "      <td>G/3/S</td>\n",
       "      <td>TRAPPIST-1e</td>\n",
       "      <td>27.0</td>\n",
       "      <td>0</td>\n",
       "      <td>0.0</td>\n",
       "      <td>0.0</td>\n",
       "      <td>0.0</td>\n",
       "      <td>0.0</td>\n",
       "      <td>...</td>\n",
       "      <td>0.0</td>\n",
       "      <td>G</td>\n",
       "      <td>3</td>\n",
       "      <td>S</td>\n",
       "      <td>1</td>\n",
       "      <td>0</td>\n",
       "      <td>0</td>\n",
       "      <td>0</td>\n",
       "      <td>0</td>\n",
       "      <td>1</td>\n",
       "    </tr>\n",
       "    <tr>\n",
       "      <th>1</th>\n",
       "      <td>Earth</td>\n",
       "      <td>0</td>\n",
       "      <td>F/4/S</td>\n",
       "      <td>TRAPPIST-1e</td>\n",
       "      <td>19.0</td>\n",
       "      <td>0</td>\n",
       "      <td>0.0</td>\n",
       "      <td>9.0</td>\n",
       "      <td>0.0</td>\n",
       "      <td>2823.0</td>\n",
       "      <td>...</td>\n",
       "      <td>2832.0</td>\n",
       "      <td>F</td>\n",
       "      <td>4</td>\n",
       "      <td>S</td>\n",
       "      <td>1</td>\n",
       "      <td>0</td>\n",
       "      <td>0</td>\n",
       "      <td>0</td>\n",
       "      <td>0</td>\n",
       "      <td>1</td>\n",
       "    </tr>\n",
       "    <tr>\n",
       "      <th>2</th>\n",
       "      <td>Europa</td>\n",
       "      <td>1</td>\n",
       "      <td>C/0/S</td>\n",
       "      <td>55 Cancri e</td>\n",
       "      <td>31.0</td>\n",
       "      <td>0</td>\n",
       "      <td>0.0</td>\n",
       "      <td>0.0</td>\n",
       "      <td>0.0</td>\n",
       "      <td>0.0</td>\n",
       "      <td>...</td>\n",
       "      <td>0.0</td>\n",
       "      <td>C</td>\n",
       "      <td>0</td>\n",
       "      <td>S</td>\n",
       "      <td>0</td>\n",
       "      <td>1</td>\n",
       "      <td>0</td>\n",
       "      <td>1</td>\n",
       "      <td>0</td>\n",
       "      <td>0</td>\n",
       "    </tr>\n",
       "    <tr>\n",
       "      <th>3</th>\n",
       "      <td>Europa</td>\n",
       "      <td>0</td>\n",
       "      <td>C/1/S</td>\n",
       "      <td>TRAPPIST-1e</td>\n",
       "      <td>38.0</td>\n",
       "      <td>0</td>\n",
       "      <td>0.0</td>\n",
       "      <td>6652.0</td>\n",
       "      <td>0.0</td>\n",
       "      <td>181.0</td>\n",
       "      <td>...</td>\n",
       "      <td>7418.0</td>\n",
       "      <td>C</td>\n",
       "      <td>1</td>\n",
       "      <td>S</td>\n",
       "      <td>0</td>\n",
       "      <td>1</td>\n",
       "      <td>0</td>\n",
       "      <td>0</td>\n",
       "      <td>0</td>\n",
       "      <td>1</td>\n",
       "    </tr>\n",
       "    <tr>\n",
       "      <th>4</th>\n",
       "      <td>Earth</td>\n",
       "      <td>0</td>\n",
       "      <td>F/5/S</td>\n",
       "      <td>TRAPPIST-1e</td>\n",
       "      <td>20.0</td>\n",
       "      <td>0</td>\n",
       "      <td>10.0</td>\n",
       "      <td>0.0</td>\n",
       "      <td>635.0</td>\n",
       "      <td>0.0</td>\n",
       "      <td>...</td>\n",
       "      <td>645.0</td>\n",
       "      <td>F</td>\n",
       "      <td>5</td>\n",
       "      <td>S</td>\n",
       "      <td>1</td>\n",
       "      <td>0</td>\n",
       "      <td>0</td>\n",
       "      <td>0</td>\n",
       "      <td>0</td>\n",
       "      <td>1</td>\n",
       "    </tr>\n",
       "  </tbody>\n",
       "</table>\n",
       "<p>5 rows × 22 columns</p>\n",
       "</div>"
      ],
      "text/plain": [
       "  HomePlanet  CryoSleep  Cabin  Destination   Age  VIP  RoomService  \\\n",
       "0      Earth          1  G/3/S  TRAPPIST-1e  27.0    0          0.0   \n",
       "1      Earth          0  F/4/S  TRAPPIST-1e  19.0    0          0.0   \n",
       "2     Europa          1  C/0/S  55 Cancri e  31.0    0          0.0   \n",
       "3     Europa          0  C/1/S  TRAPPIST-1e  38.0    0          0.0   \n",
       "4      Earth          0  F/5/S  TRAPPIST-1e  20.0    0         10.0   \n",
       "\n",
       "   FoodCourt  ShoppingMall     Spa  ...  Expense Cabin_deck  Cabin_num  \\\n",
       "0        0.0           0.0     0.0  ...      0.0          G          3   \n",
       "1        9.0           0.0  2823.0  ...   2832.0          F          4   \n",
       "2        0.0           0.0     0.0  ...      0.0          C          0   \n",
       "3     6652.0           0.0   181.0  ...   7418.0          C          1   \n",
       "4        0.0         635.0     0.0  ...    645.0          F          5   \n",
       "\n",
       "  Cabin_side  HomePlanet_Earth HomePlanet_Europa  HomePlanet_Mars  \\\n",
       "0          S                 1                 0                0   \n",
       "1          S                 1                 0                0   \n",
       "2          S                 0                 1                0   \n",
       "3          S                 0                 1                0   \n",
       "4          S                 1                 0                0   \n",
       "\n",
       "   Destination_55 Cancri e  Destination_PSO J318.5-22  Destination_TRAPPIST-1e  \n",
       "0                        0                          0                        1  \n",
       "1                        0                          0                        1  \n",
       "2                        1                          0                        0  \n",
       "3                        0                          0                        1  \n",
       "4                        0                          0                        1  \n",
       "\n",
       "[5 rows x 22 columns]"
      ]
     },
     "execution_count": 61,
     "metadata": {},
     "output_type": "execute_result"
    }
   ],
   "source": [
    "destination_dummies = pd.get_dummies(test_data[\"Destination\"], prefix=\"Destination\")\n",
    "test_data = test_data.join(destination_dummies)\n",
    "test_data.head()"
   ]
  },
  {
   "cell_type": "code",
   "execution_count": 62,
   "id": "219e48b7",
   "metadata": {
    "execution": {
     "iopub.execute_input": "2022-09-02T15:51:46.859904Z",
     "iopub.status.busy": "2022-09-02T15:51:46.859324Z",
     "iopub.status.idle": "2022-09-02T15:51:46.885158Z",
     "shell.execute_reply": "2022-09-02T15:51:46.884131Z"
    },
    "papermill": {
     "duration": 0.051449,
     "end_time": "2022-09-02T15:51:46.887328",
     "exception": false,
     "start_time": "2022-09-02T15:51:46.835879",
     "status": "completed"
    },
    "tags": []
   },
   "outputs": [
    {
     "data": {
      "text/html": [
       "<div>\n",
       "<style scoped>\n",
       "    .dataframe tbody tr th:only-of-type {\n",
       "        vertical-align: middle;\n",
       "    }\n",
       "\n",
       "    .dataframe tbody tr th {\n",
       "        vertical-align: top;\n",
       "    }\n",
       "\n",
       "    .dataframe thead th {\n",
       "        text-align: right;\n",
       "    }\n",
       "</style>\n",
       "<table border=\"1\" class=\"dataframe\">\n",
       "  <thead>\n",
       "    <tr style=\"text-align: right;\">\n",
       "      <th></th>\n",
       "      <th>HomePlanet</th>\n",
       "      <th>CryoSleep</th>\n",
       "      <th>Cabin</th>\n",
       "      <th>Destination</th>\n",
       "      <th>Age</th>\n",
       "      <th>VIP</th>\n",
       "      <th>RoomService</th>\n",
       "      <th>FoodCourt</th>\n",
       "      <th>ShoppingMall</th>\n",
       "      <th>Spa</th>\n",
       "      <th>...</th>\n",
       "      <th>Destination_PSO J318.5-22</th>\n",
       "      <th>Destination_TRAPPIST-1e</th>\n",
       "      <th>Cabin_deck_A</th>\n",
       "      <th>Cabin_deck_B</th>\n",
       "      <th>Cabin_deck_C</th>\n",
       "      <th>Cabin_deck_D</th>\n",
       "      <th>Cabin_deck_E</th>\n",
       "      <th>Cabin_deck_F</th>\n",
       "      <th>Cabin_deck_G</th>\n",
       "      <th>Cabin_deck_T</th>\n",
       "    </tr>\n",
       "  </thead>\n",
       "  <tbody>\n",
       "    <tr>\n",
       "      <th>0</th>\n",
       "      <td>Earth</td>\n",
       "      <td>1</td>\n",
       "      <td>G/3/S</td>\n",
       "      <td>TRAPPIST-1e</td>\n",
       "      <td>27.0</td>\n",
       "      <td>0</td>\n",
       "      <td>0.0</td>\n",
       "      <td>0.0</td>\n",
       "      <td>0.0</td>\n",
       "      <td>0.0</td>\n",
       "      <td>...</td>\n",
       "      <td>0</td>\n",
       "      <td>1</td>\n",
       "      <td>0</td>\n",
       "      <td>0</td>\n",
       "      <td>0</td>\n",
       "      <td>0</td>\n",
       "      <td>0</td>\n",
       "      <td>0</td>\n",
       "      <td>1</td>\n",
       "      <td>0</td>\n",
       "    </tr>\n",
       "    <tr>\n",
       "      <th>1</th>\n",
       "      <td>Earth</td>\n",
       "      <td>0</td>\n",
       "      <td>F/4/S</td>\n",
       "      <td>TRAPPIST-1e</td>\n",
       "      <td>19.0</td>\n",
       "      <td>0</td>\n",
       "      <td>0.0</td>\n",
       "      <td>9.0</td>\n",
       "      <td>0.0</td>\n",
       "      <td>2823.0</td>\n",
       "      <td>...</td>\n",
       "      <td>0</td>\n",
       "      <td>1</td>\n",
       "      <td>0</td>\n",
       "      <td>0</td>\n",
       "      <td>0</td>\n",
       "      <td>0</td>\n",
       "      <td>0</td>\n",
       "      <td>1</td>\n",
       "      <td>0</td>\n",
       "      <td>0</td>\n",
       "    </tr>\n",
       "    <tr>\n",
       "      <th>2</th>\n",
       "      <td>Europa</td>\n",
       "      <td>1</td>\n",
       "      <td>C/0/S</td>\n",
       "      <td>55 Cancri e</td>\n",
       "      <td>31.0</td>\n",
       "      <td>0</td>\n",
       "      <td>0.0</td>\n",
       "      <td>0.0</td>\n",
       "      <td>0.0</td>\n",
       "      <td>0.0</td>\n",
       "      <td>...</td>\n",
       "      <td>0</td>\n",
       "      <td>0</td>\n",
       "      <td>0</td>\n",
       "      <td>0</td>\n",
       "      <td>1</td>\n",
       "      <td>0</td>\n",
       "      <td>0</td>\n",
       "      <td>0</td>\n",
       "      <td>0</td>\n",
       "      <td>0</td>\n",
       "    </tr>\n",
       "    <tr>\n",
       "      <th>3</th>\n",
       "      <td>Europa</td>\n",
       "      <td>0</td>\n",
       "      <td>C/1/S</td>\n",
       "      <td>TRAPPIST-1e</td>\n",
       "      <td>38.0</td>\n",
       "      <td>0</td>\n",
       "      <td>0.0</td>\n",
       "      <td>6652.0</td>\n",
       "      <td>0.0</td>\n",
       "      <td>181.0</td>\n",
       "      <td>...</td>\n",
       "      <td>0</td>\n",
       "      <td>1</td>\n",
       "      <td>0</td>\n",
       "      <td>0</td>\n",
       "      <td>1</td>\n",
       "      <td>0</td>\n",
       "      <td>0</td>\n",
       "      <td>0</td>\n",
       "      <td>0</td>\n",
       "      <td>0</td>\n",
       "    </tr>\n",
       "    <tr>\n",
       "      <th>4</th>\n",
       "      <td>Earth</td>\n",
       "      <td>0</td>\n",
       "      <td>F/5/S</td>\n",
       "      <td>TRAPPIST-1e</td>\n",
       "      <td>20.0</td>\n",
       "      <td>0</td>\n",
       "      <td>10.0</td>\n",
       "      <td>0.0</td>\n",
       "      <td>635.0</td>\n",
       "      <td>0.0</td>\n",
       "      <td>...</td>\n",
       "      <td>0</td>\n",
       "      <td>1</td>\n",
       "      <td>0</td>\n",
       "      <td>0</td>\n",
       "      <td>0</td>\n",
       "      <td>0</td>\n",
       "      <td>0</td>\n",
       "      <td>1</td>\n",
       "      <td>0</td>\n",
       "      <td>0</td>\n",
       "    </tr>\n",
       "  </tbody>\n",
       "</table>\n",
       "<p>5 rows × 30 columns</p>\n",
       "</div>"
      ],
      "text/plain": [
       "  HomePlanet  CryoSleep  Cabin  Destination   Age  VIP  RoomService  \\\n",
       "0      Earth          1  G/3/S  TRAPPIST-1e  27.0    0          0.0   \n",
       "1      Earth          0  F/4/S  TRAPPIST-1e  19.0    0          0.0   \n",
       "2     Europa          1  C/0/S  55 Cancri e  31.0    0          0.0   \n",
       "3     Europa          0  C/1/S  TRAPPIST-1e  38.0    0          0.0   \n",
       "4      Earth          0  F/5/S  TRAPPIST-1e  20.0    0         10.0   \n",
       "\n",
       "   FoodCourt  ShoppingMall     Spa  ...  Destination_PSO J318.5-22  \\\n",
       "0        0.0           0.0     0.0  ...                          0   \n",
       "1        9.0           0.0  2823.0  ...                          0   \n",
       "2        0.0           0.0     0.0  ...                          0   \n",
       "3     6652.0           0.0   181.0  ...                          0   \n",
       "4        0.0         635.0     0.0  ...                          0   \n",
       "\n",
       "  Destination_TRAPPIST-1e  Cabin_deck_A Cabin_deck_B  Cabin_deck_C  \\\n",
       "0                       1             0            0             0   \n",
       "1                       1             0            0             0   \n",
       "2                       0             0            0             1   \n",
       "3                       1             0            0             1   \n",
       "4                       1             0            0             0   \n",
       "\n",
       "  Cabin_deck_D  Cabin_deck_E  Cabin_deck_F  Cabin_deck_G  Cabin_deck_T  \n",
       "0            0             0             0             1             0  \n",
       "1            0             0             1             0             0  \n",
       "2            0             0             0             0             0  \n",
       "3            0             0             0             0             0  \n",
       "4            0             0             1             0             0  \n",
       "\n",
       "[5 rows x 30 columns]"
      ]
     },
     "execution_count": 62,
     "metadata": {},
     "output_type": "execute_result"
    }
   ],
   "source": [
    "cabin_deck_dummies = pd.get_dummies(test_data[\"Cabin_deck\"], prefix=\"Cabin_deck\")\n",
    "test_data = test_data.join(cabin_deck_dummies)\n",
    "test_data.head()"
   ]
  },
  {
   "cell_type": "code",
   "execution_count": 63,
   "id": "3a014303",
   "metadata": {
    "execution": {
     "iopub.execute_input": "2022-09-02T15:51:46.934631Z",
     "iopub.status.busy": "2022-09-02T15:51:46.933944Z",
     "iopub.status.idle": "2022-09-02T15:51:46.958599Z",
     "shell.execute_reply": "2022-09-02T15:51:46.957649Z"
    },
    "papermill": {
     "duration": 0.050675,
     "end_time": "2022-09-02T15:51:46.960799",
     "exception": false,
     "start_time": "2022-09-02T15:51:46.910124",
     "status": "completed"
    },
    "tags": []
   },
   "outputs": [
    {
     "data": {
      "text/html": [
       "<div>\n",
       "<style scoped>\n",
       "    .dataframe tbody tr th:only-of-type {\n",
       "        vertical-align: middle;\n",
       "    }\n",
       "\n",
       "    .dataframe tbody tr th {\n",
       "        vertical-align: top;\n",
       "    }\n",
       "\n",
       "    .dataframe thead th {\n",
       "        text-align: right;\n",
       "    }\n",
       "</style>\n",
       "<table border=\"1\" class=\"dataframe\">\n",
       "  <thead>\n",
       "    <tr style=\"text-align: right;\">\n",
       "      <th></th>\n",
       "      <th>HomePlanet</th>\n",
       "      <th>CryoSleep</th>\n",
       "      <th>Cabin</th>\n",
       "      <th>Destination</th>\n",
       "      <th>Age</th>\n",
       "      <th>VIP</th>\n",
       "      <th>RoomService</th>\n",
       "      <th>FoodCourt</th>\n",
       "      <th>ShoppingMall</th>\n",
       "      <th>Spa</th>\n",
       "      <th>...</th>\n",
       "      <th>Cabin_deck_A</th>\n",
       "      <th>Cabin_deck_B</th>\n",
       "      <th>Cabin_deck_C</th>\n",
       "      <th>Cabin_deck_D</th>\n",
       "      <th>Cabin_deck_E</th>\n",
       "      <th>Cabin_deck_F</th>\n",
       "      <th>Cabin_deck_G</th>\n",
       "      <th>Cabin_deck_T</th>\n",
       "      <th>Cabin_side_P</th>\n",
       "      <th>Cabin_side_S</th>\n",
       "    </tr>\n",
       "  </thead>\n",
       "  <tbody>\n",
       "    <tr>\n",
       "      <th>0</th>\n",
       "      <td>Earth</td>\n",
       "      <td>1</td>\n",
       "      <td>G/3/S</td>\n",
       "      <td>TRAPPIST-1e</td>\n",
       "      <td>27.0</td>\n",
       "      <td>0</td>\n",
       "      <td>0.0</td>\n",
       "      <td>0.0</td>\n",
       "      <td>0.0</td>\n",
       "      <td>0.0</td>\n",
       "      <td>...</td>\n",
       "      <td>0</td>\n",
       "      <td>0</td>\n",
       "      <td>0</td>\n",
       "      <td>0</td>\n",
       "      <td>0</td>\n",
       "      <td>0</td>\n",
       "      <td>1</td>\n",
       "      <td>0</td>\n",
       "      <td>0</td>\n",
       "      <td>1</td>\n",
       "    </tr>\n",
       "    <tr>\n",
       "      <th>1</th>\n",
       "      <td>Earth</td>\n",
       "      <td>0</td>\n",
       "      <td>F/4/S</td>\n",
       "      <td>TRAPPIST-1e</td>\n",
       "      <td>19.0</td>\n",
       "      <td>0</td>\n",
       "      <td>0.0</td>\n",
       "      <td>9.0</td>\n",
       "      <td>0.0</td>\n",
       "      <td>2823.0</td>\n",
       "      <td>...</td>\n",
       "      <td>0</td>\n",
       "      <td>0</td>\n",
       "      <td>0</td>\n",
       "      <td>0</td>\n",
       "      <td>0</td>\n",
       "      <td>1</td>\n",
       "      <td>0</td>\n",
       "      <td>0</td>\n",
       "      <td>0</td>\n",
       "      <td>1</td>\n",
       "    </tr>\n",
       "    <tr>\n",
       "      <th>2</th>\n",
       "      <td>Europa</td>\n",
       "      <td>1</td>\n",
       "      <td>C/0/S</td>\n",
       "      <td>55 Cancri e</td>\n",
       "      <td>31.0</td>\n",
       "      <td>0</td>\n",
       "      <td>0.0</td>\n",
       "      <td>0.0</td>\n",
       "      <td>0.0</td>\n",
       "      <td>0.0</td>\n",
       "      <td>...</td>\n",
       "      <td>0</td>\n",
       "      <td>0</td>\n",
       "      <td>1</td>\n",
       "      <td>0</td>\n",
       "      <td>0</td>\n",
       "      <td>0</td>\n",
       "      <td>0</td>\n",
       "      <td>0</td>\n",
       "      <td>0</td>\n",
       "      <td>1</td>\n",
       "    </tr>\n",
       "    <tr>\n",
       "      <th>3</th>\n",
       "      <td>Europa</td>\n",
       "      <td>0</td>\n",
       "      <td>C/1/S</td>\n",
       "      <td>TRAPPIST-1e</td>\n",
       "      <td>38.0</td>\n",
       "      <td>0</td>\n",
       "      <td>0.0</td>\n",
       "      <td>6652.0</td>\n",
       "      <td>0.0</td>\n",
       "      <td>181.0</td>\n",
       "      <td>...</td>\n",
       "      <td>0</td>\n",
       "      <td>0</td>\n",
       "      <td>1</td>\n",
       "      <td>0</td>\n",
       "      <td>0</td>\n",
       "      <td>0</td>\n",
       "      <td>0</td>\n",
       "      <td>0</td>\n",
       "      <td>0</td>\n",
       "      <td>1</td>\n",
       "    </tr>\n",
       "    <tr>\n",
       "      <th>4</th>\n",
       "      <td>Earth</td>\n",
       "      <td>0</td>\n",
       "      <td>F/5/S</td>\n",
       "      <td>TRAPPIST-1e</td>\n",
       "      <td>20.0</td>\n",
       "      <td>0</td>\n",
       "      <td>10.0</td>\n",
       "      <td>0.0</td>\n",
       "      <td>635.0</td>\n",
       "      <td>0.0</td>\n",
       "      <td>...</td>\n",
       "      <td>0</td>\n",
       "      <td>0</td>\n",
       "      <td>0</td>\n",
       "      <td>0</td>\n",
       "      <td>0</td>\n",
       "      <td>1</td>\n",
       "      <td>0</td>\n",
       "      <td>0</td>\n",
       "      <td>0</td>\n",
       "      <td>1</td>\n",
       "    </tr>\n",
       "  </tbody>\n",
       "</table>\n",
       "<p>5 rows × 32 columns</p>\n",
       "</div>"
      ],
      "text/plain": [
       "  HomePlanet  CryoSleep  Cabin  Destination   Age  VIP  RoomService  \\\n",
       "0      Earth          1  G/3/S  TRAPPIST-1e  27.0    0          0.0   \n",
       "1      Earth          0  F/4/S  TRAPPIST-1e  19.0    0          0.0   \n",
       "2     Europa          1  C/0/S  55 Cancri e  31.0    0          0.0   \n",
       "3     Europa          0  C/1/S  TRAPPIST-1e  38.0    0          0.0   \n",
       "4      Earth          0  F/5/S  TRAPPIST-1e  20.0    0         10.0   \n",
       "\n",
       "   FoodCourt  ShoppingMall     Spa  ...  Cabin_deck_A Cabin_deck_B  \\\n",
       "0        0.0           0.0     0.0  ...             0            0   \n",
       "1        9.0           0.0  2823.0  ...             0            0   \n",
       "2        0.0           0.0     0.0  ...             0            0   \n",
       "3     6652.0           0.0   181.0  ...             0            0   \n",
       "4        0.0         635.0     0.0  ...             0            0   \n",
       "\n",
       "   Cabin_deck_C Cabin_deck_D  Cabin_deck_E Cabin_deck_F  Cabin_deck_G  \\\n",
       "0             0            0             0            0             1   \n",
       "1             0            0             0            1             0   \n",
       "2             1            0             0            0             0   \n",
       "3             1            0             0            0             0   \n",
       "4             0            0             0            1             0   \n",
       "\n",
       "   Cabin_deck_T  Cabin_side_P  Cabin_side_S  \n",
       "0             0             0             1  \n",
       "1             0             0             1  \n",
       "2             0             0             1  \n",
       "3             0             0             1  \n",
       "4             0             0             1  \n",
       "\n",
       "[5 rows x 32 columns]"
      ]
     },
     "execution_count": 63,
     "metadata": {},
     "output_type": "execute_result"
    }
   ],
   "source": [
    "cabin_side_dummies = pd.get_dummies(test_data[\"Cabin_side\"], prefix=\"Cabin_side\")\n",
    "test_data = test_data.join(cabin_side_dummies)\n",
    "test_data.head()"
   ]
  },
  {
   "cell_type": "code",
   "execution_count": 64,
   "id": "1385c733",
   "metadata": {
    "execution": {
     "iopub.execute_input": "2022-09-02T15:51:47.009583Z",
     "iopub.status.busy": "2022-09-02T15:51:47.008928Z",
     "iopub.status.idle": "2022-09-02T15:51:47.014221Z",
     "shell.execute_reply": "2022-09-02T15:51:47.013202Z"
    },
    "papermill": {
     "duration": 0.031226,
     "end_time": "2022-09-02T15:51:47.016372",
     "exception": false,
     "start_time": "2022-09-02T15:51:46.985146",
     "status": "completed"
    },
    "tags": []
   },
   "outputs": [],
   "source": [
    "test_data.rename(columns={\"Expense\":\"Expenses\"}, inplace=True)"
   ]
  },
  {
   "cell_type": "code",
   "execution_count": 65,
   "id": "df8f7407",
   "metadata": {
    "execution": {
     "iopub.execute_input": "2022-09-02T15:51:47.063102Z",
     "iopub.status.busy": "2022-09-02T15:51:47.062494Z",
     "iopub.status.idle": "2022-09-02T15:51:47.069393Z",
     "shell.execute_reply": "2022-09-02T15:51:47.068438Z"
    },
    "papermill": {
     "duration": 0.032231,
     "end_time": "2022-09-02T15:51:47.071362",
     "exception": false,
     "start_time": "2022-09-02T15:51:47.039131",
     "status": "completed"
    },
    "tags": []
   },
   "outputs": [
    {
     "data": {
      "text/plain": [
       "Index(['CryoSleep', 'Age', 'VIP', 'RoomService', 'FoodCourt', 'ShoppingMall',\n",
       "       'Spa', 'VRDeck', 'HomePlanet_Earth', 'HomePlanet_Europa',\n",
       "       'HomePlanet_Mars', 'Destination_55 Cancri e',\n",
       "       'Destination_PSO J318.5-22', 'Destination_TRAPPIST-1e', 'Cabin_num',\n",
       "       'Expenses', 'Cabin_deck_A', 'Cabin_deck_B', 'Cabin_deck_C',\n",
       "       'Cabin_deck_D', 'Cabin_deck_E', 'Cabin_deck_F', 'Cabin_deck_G',\n",
       "       'Cabin_deck_T', 'Cabin_side_P', 'Cabin_side_S'],\n",
       "      dtype='object')"
      ]
     },
     "execution_count": 65,
     "metadata": {},
     "output_type": "execute_result"
    }
   ],
   "source": [
    "cols"
   ]
  },
  {
   "cell_type": "code",
   "execution_count": 66,
   "id": "3e29a2a3",
   "metadata": {
    "execution": {
     "iopub.execute_input": "2022-09-02T15:51:47.117590Z",
     "iopub.status.busy": "2022-09-02T15:51:47.116789Z",
     "iopub.status.idle": "2022-09-02T15:51:47.147180Z",
     "shell.execute_reply": "2022-09-02T15:51:47.146293Z"
    },
    "papermill": {
     "duration": 0.055841,
     "end_time": "2022-09-02T15:51:47.149362",
     "exception": false,
     "start_time": "2022-09-02T15:51:47.093521",
     "status": "completed"
    },
    "tags": []
   },
   "outputs": [
    {
     "data": {
      "text/html": [
       "<div>\n",
       "<style scoped>\n",
       "    .dataframe tbody tr th:only-of-type {\n",
       "        vertical-align: middle;\n",
       "    }\n",
       "\n",
       "    .dataframe tbody tr th {\n",
       "        vertical-align: top;\n",
       "    }\n",
       "\n",
       "    .dataframe thead th {\n",
       "        text-align: right;\n",
       "    }\n",
       "</style>\n",
       "<table border=\"1\" class=\"dataframe\">\n",
       "  <thead>\n",
       "    <tr style=\"text-align: right;\">\n",
       "      <th></th>\n",
       "      <th>CryoSleep</th>\n",
       "      <th>Age</th>\n",
       "      <th>VIP</th>\n",
       "      <th>RoomService</th>\n",
       "      <th>FoodCourt</th>\n",
       "      <th>ShoppingMall</th>\n",
       "      <th>Spa</th>\n",
       "      <th>VRDeck</th>\n",
       "      <th>HomePlanet_Earth</th>\n",
       "      <th>HomePlanet_Europa</th>\n",
       "      <th>HomePlanet_Mars</th>\n",
       "      <th>Destination_55 Cancri e</th>\n",
       "      <th>Destination_PSO J318.5-22</th>\n",
       "      <th>Destination_TRAPPIST-1e</th>\n",
       "      <th>Cabin_num</th>\n",
       "      <th>Expenses</th>\n",
       "      <th>Cabin_deck_A</th>\n",
       "      <th>Cabin_deck_B</th>\n",
       "      <th>Cabin_deck_C</th>\n",
       "      <th>Cabin_deck_D</th>\n",
       "      <th>Cabin_deck_E</th>\n",
       "      <th>Cabin_deck_F</th>\n",
       "      <th>Cabin_deck_G</th>\n",
       "      <th>Cabin_deck_T</th>\n",
       "      <th>Cabin_side_P</th>\n",
       "      <th>Cabin_side_S</th>\n",
       "    </tr>\n",
       "  </thead>\n",
       "  <tbody>\n",
       "    <tr>\n",
       "      <th>0</th>\n",
       "      <td>1</td>\n",
       "      <td>27.0</td>\n",
       "      <td>0</td>\n",
       "      <td>0.0</td>\n",
       "      <td>0.0</td>\n",
       "      <td>0.0</td>\n",
       "      <td>0.0</td>\n",
       "      <td>0.0</td>\n",
       "      <td>1</td>\n",
       "      <td>0</td>\n",
       "      <td>0</td>\n",
       "      <td>0</td>\n",
       "      <td>0</td>\n",
       "      <td>1</td>\n",
       "      <td>3</td>\n",
       "      <td>0.0</td>\n",
       "      <td>0</td>\n",
       "      <td>0</td>\n",
       "      <td>0</td>\n",
       "      <td>0</td>\n",
       "      <td>0</td>\n",
       "      <td>0</td>\n",
       "      <td>1</td>\n",
       "      <td>0</td>\n",
       "      <td>0</td>\n",
       "      <td>1</td>\n",
       "    </tr>\n",
       "    <tr>\n",
       "      <th>1</th>\n",
       "      <td>0</td>\n",
       "      <td>19.0</td>\n",
       "      <td>0</td>\n",
       "      <td>0.0</td>\n",
       "      <td>9.0</td>\n",
       "      <td>0.0</td>\n",
       "      <td>2823.0</td>\n",
       "      <td>0.0</td>\n",
       "      <td>1</td>\n",
       "      <td>0</td>\n",
       "      <td>0</td>\n",
       "      <td>0</td>\n",
       "      <td>0</td>\n",
       "      <td>1</td>\n",
       "      <td>4</td>\n",
       "      <td>2832.0</td>\n",
       "      <td>0</td>\n",
       "      <td>0</td>\n",
       "      <td>0</td>\n",
       "      <td>0</td>\n",
       "      <td>0</td>\n",
       "      <td>1</td>\n",
       "      <td>0</td>\n",
       "      <td>0</td>\n",
       "      <td>0</td>\n",
       "      <td>1</td>\n",
       "    </tr>\n",
       "    <tr>\n",
       "      <th>2</th>\n",
       "      <td>1</td>\n",
       "      <td>31.0</td>\n",
       "      <td>0</td>\n",
       "      <td>0.0</td>\n",
       "      <td>0.0</td>\n",
       "      <td>0.0</td>\n",
       "      <td>0.0</td>\n",
       "      <td>0.0</td>\n",
       "      <td>0</td>\n",
       "      <td>1</td>\n",
       "      <td>0</td>\n",
       "      <td>1</td>\n",
       "      <td>0</td>\n",
       "      <td>0</td>\n",
       "      <td>0</td>\n",
       "      <td>0.0</td>\n",
       "      <td>0</td>\n",
       "      <td>0</td>\n",
       "      <td>1</td>\n",
       "      <td>0</td>\n",
       "      <td>0</td>\n",
       "      <td>0</td>\n",
       "      <td>0</td>\n",
       "      <td>0</td>\n",
       "      <td>0</td>\n",
       "      <td>1</td>\n",
       "    </tr>\n",
       "    <tr>\n",
       "      <th>3</th>\n",
       "      <td>0</td>\n",
       "      <td>38.0</td>\n",
       "      <td>0</td>\n",
       "      <td>0.0</td>\n",
       "      <td>6652.0</td>\n",
       "      <td>0.0</td>\n",
       "      <td>181.0</td>\n",
       "      <td>585.0</td>\n",
       "      <td>0</td>\n",
       "      <td>1</td>\n",
       "      <td>0</td>\n",
       "      <td>0</td>\n",
       "      <td>0</td>\n",
       "      <td>1</td>\n",
       "      <td>1</td>\n",
       "      <td>7418.0</td>\n",
       "      <td>0</td>\n",
       "      <td>0</td>\n",
       "      <td>1</td>\n",
       "      <td>0</td>\n",
       "      <td>0</td>\n",
       "      <td>0</td>\n",
       "      <td>0</td>\n",
       "      <td>0</td>\n",
       "      <td>0</td>\n",
       "      <td>1</td>\n",
       "    </tr>\n",
       "    <tr>\n",
       "      <th>4</th>\n",
       "      <td>0</td>\n",
       "      <td>20.0</td>\n",
       "      <td>0</td>\n",
       "      <td>10.0</td>\n",
       "      <td>0.0</td>\n",
       "      <td>635.0</td>\n",
       "      <td>0.0</td>\n",
       "      <td>0.0</td>\n",
       "      <td>1</td>\n",
       "      <td>0</td>\n",
       "      <td>0</td>\n",
       "      <td>0</td>\n",
       "      <td>0</td>\n",
       "      <td>1</td>\n",
       "      <td>5</td>\n",
       "      <td>645.0</td>\n",
       "      <td>0</td>\n",
       "      <td>0</td>\n",
       "      <td>0</td>\n",
       "      <td>0</td>\n",
       "      <td>0</td>\n",
       "      <td>1</td>\n",
       "      <td>0</td>\n",
       "      <td>0</td>\n",
       "      <td>0</td>\n",
       "      <td>1</td>\n",
       "    </tr>\n",
       "    <tr>\n",
       "      <th>...</th>\n",
       "      <td>...</td>\n",
       "      <td>...</td>\n",
       "      <td>...</td>\n",
       "      <td>...</td>\n",
       "      <td>...</td>\n",
       "      <td>...</td>\n",
       "      <td>...</td>\n",
       "      <td>...</td>\n",
       "      <td>...</td>\n",
       "      <td>...</td>\n",
       "      <td>...</td>\n",
       "      <td>...</td>\n",
       "      <td>...</td>\n",
       "      <td>...</td>\n",
       "      <td>...</td>\n",
       "      <td>...</td>\n",
       "      <td>...</td>\n",
       "      <td>...</td>\n",
       "      <td>...</td>\n",
       "      <td>...</td>\n",
       "      <td>...</td>\n",
       "      <td>...</td>\n",
       "      <td>...</td>\n",
       "      <td>...</td>\n",
       "      <td>...</td>\n",
       "      <td>...</td>\n",
       "    </tr>\n",
       "    <tr>\n",
       "      <th>4272</th>\n",
       "      <td>1</td>\n",
       "      <td>34.0</td>\n",
       "      <td>0</td>\n",
       "      <td>0.0</td>\n",
       "      <td>0.0</td>\n",
       "      <td>0.0</td>\n",
       "      <td>0.0</td>\n",
       "      <td>0.0</td>\n",
       "      <td>1</td>\n",
       "      <td>0</td>\n",
       "      <td>0</td>\n",
       "      <td>0</td>\n",
       "      <td>0</td>\n",
       "      <td>1</td>\n",
       "      <td>1496</td>\n",
       "      <td>0.0</td>\n",
       "      <td>0</td>\n",
       "      <td>0</td>\n",
       "      <td>0</td>\n",
       "      <td>0</td>\n",
       "      <td>0</td>\n",
       "      <td>0</td>\n",
       "      <td>1</td>\n",
       "      <td>0</td>\n",
       "      <td>0</td>\n",
       "      <td>1</td>\n",
       "    </tr>\n",
       "    <tr>\n",
       "      <th>4273</th>\n",
       "      <td>0</td>\n",
       "      <td>42.0</td>\n",
       "      <td>0</td>\n",
       "      <td>0.0</td>\n",
       "      <td>847.0</td>\n",
       "      <td>17.0</td>\n",
       "      <td>10.0</td>\n",
       "      <td>144.0</td>\n",
       "      <td>1</td>\n",
       "      <td>0</td>\n",
       "      <td>0</td>\n",
       "      <td>0</td>\n",
       "      <td>0</td>\n",
       "      <td>1</td>\n",
       "      <td>31</td>\n",
       "      <td>1018.0</td>\n",
       "      <td>0</td>\n",
       "      <td>1</td>\n",
       "      <td>0</td>\n",
       "      <td>0</td>\n",
       "      <td>0</td>\n",
       "      <td>0</td>\n",
       "      <td>0</td>\n",
       "      <td>0</td>\n",
       "      <td>1</td>\n",
       "      <td>0</td>\n",
       "    </tr>\n",
       "    <tr>\n",
       "      <th>4274</th>\n",
       "      <td>1</td>\n",
       "      <td>26.0</td>\n",
       "      <td>0</td>\n",
       "      <td>0.0</td>\n",
       "      <td>0.0</td>\n",
       "      <td>0.0</td>\n",
       "      <td>0.0</td>\n",
       "      <td>0.0</td>\n",
       "      <td>0</td>\n",
       "      <td>0</td>\n",
       "      <td>1</td>\n",
       "      <td>1</td>\n",
       "      <td>0</td>\n",
       "      <td>0</td>\n",
       "      <td>296</td>\n",
       "      <td>0.0</td>\n",
       "      <td>0</td>\n",
       "      <td>0</td>\n",
       "      <td>0</td>\n",
       "      <td>1</td>\n",
       "      <td>0</td>\n",
       "      <td>0</td>\n",
       "      <td>0</td>\n",
       "      <td>0</td>\n",
       "      <td>1</td>\n",
       "      <td>0</td>\n",
       "    </tr>\n",
       "    <tr>\n",
       "      <th>4275</th>\n",
       "      <td>0</td>\n",
       "      <td>26.0</td>\n",
       "      <td>0</td>\n",
       "      <td>0.0</td>\n",
       "      <td>2680.0</td>\n",
       "      <td>0.0</td>\n",
       "      <td>0.0</td>\n",
       "      <td>523.0</td>\n",
       "      <td>0</td>\n",
       "      <td>1</td>\n",
       "      <td>0</td>\n",
       "      <td>0</td>\n",
       "      <td>0</td>\n",
       "      <td>1</td>\n",
       "      <td>297</td>\n",
       "      <td>3203.0</td>\n",
       "      <td>0</td>\n",
       "      <td>0</td>\n",
       "      <td>0</td>\n",
       "      <td>1</td>\n",
       "      <td>0</td>\n",
       "      <td>0</td>\n",
       "      <td>0</td>\n",
       "      <td>0</td>\n",
       "      <td>1</td>\n",
       "      <td>0</td>\n",
       "    </tr>\n",
       "    <tr>\n",
       "      <th>4276</th>\n",
       "      <td>1</td>\n",
       "      <td>43.0</td>\n",
       "      <td>0</td>\n",
       "      <td>0.0</td>\n",
       "      <td>0.0</td>\n",
       "      <td>0.0</td>\n",
       "      <td>0.0</td>\n",
       "      <td>0.0</td>\n",
       "      <td>1</td>\n",
       "      <td>0</td>\n",
       "      <td>0</td>\n",
       "      <td>0</td>\n",
       "      <td>1</td>\n",
       "      <td>0</td>\n",
       "      <td>1498</td>\n",
       "      <td>0.0</td>\n",
       "      <td>0</td>\n",
       "      <td>0</td>\n",
       "      <td>0</td>\n",
       "      <td>0</td>\n",
       "      <td>0</td>\n",
       "      <td>0</td>\n",
       "      <td>1</td>\n",
       "      <td>0</td>\n",
       "      <td>0</td>\n",
       "      <td>1</td>\n",
       "    </tr>\n",
       "  </tbody>\n",
       "</table>\n",
       "<p>4277 rows × 26 columns</p>\n",
       "</div>"
      ],
      "text/plain": [
       "      CryoSleep   Age  VIP  RoomService  FoodCourt  ShoppingMall     Spa  \\\n",
       "0             1  27.0    0          0.0        0.0           0.0     0.0   \n",
       "1             0  19.0    0          0.0        9.0           0.0  2823.0   \n",
       "2             1  31.0    0          0.0        0.0           0.0     0.0   \n",
       "3             0  38.0    0          0.0     6652.0           0.0   181.0   \n",
       "4             0  20.0    0         10.0        0.0         635.0     0.0   \n",
       "...         ...   ...  ...          ...        ...           ...     ...   \n",
       "4272          1  34.0    0          0.0        0.0           0.0     0.0   \n",
       "4273          0  42.0    0          0.0      847.0          17.0    10.0   \n",
       "4274          1  26.0    0          0.0        0.0           0.0     0.0   \n",
       "4275          0  26.0    0          0.0     2680.0           0.0     0.0   \n",
       "4276          1  43.0    0          0.0        0.0           0.0     0.0   \n",
       "\n",
       "      VRDeck  HomePlanet_Earth  HomePlanet_Europa  HomePlanet_Mars  \\\n",
       "0        0.0                 1                  0                0   \n",
       "1        0.0                 1                  0                0   \n",
       "2        0.0                 0                  1                0   \n",
       "3      585.0                 0                  1                0   \n",
       "4        0.0                 1                  0                0   \n",
       "...      ...               ...                ...              ...   \n",
       "4272     0.0                 1                  0                0   \n",
       "4273   144.0                 1                  0                0   \n",
       "4274     0.0                 0                  0                1   \n",
       "4275   523.0                 0                  1                0   \n",
       "4276     0.0                 1                  0                0   \n",
       "\n",
       "      Destination_55 Cancri e  Destination_PSO J318.5-22  \\\n",
       "0                           0                          0   \n",
       "1                           0                          0   \n",
       "2                           1                          0   \n",
       "3                           0                          0   \n",
       "4                           0                          0   \n",
       "...                       ...                        ...   \n",
       "4272                        0                          0   \n",
       "4273                        0                          0   \n",
       "4274                        1                          0   \n",
       "4275                        0                          0   \n",
       "4276                        0                          1   \n",
       "\n",
       "      Destination_TRAPPIST-1e  Cabin_num  Expenses  Cabin_deck_A  \\\n",
       "0                           1          3       0.0             0   \n",
       "1                           1          4    2832.0             0   \n",
       "2                           0          0       0.0             0   \n",
       "3                           1          1    7418.0             0   \n",
       "4                           1          5     645.0             0   \n",
       "...                       ...        ...       ...           ...   \n",
       "4272                        1       1496       0.0             0   \n",
       "4273                        1         31    1018.0             0   \n",
       "4274                        0        296       0.0             0   \n",
       "4275                        1        297    3203.0             0   \n",
       "4276                        0       1498       0.0             0   \n",
       "\n",
       "      Cabin_deck_B  Cabin_deck_C  Cabin_deck_D  Cabin_deck_E  Cabin_deck_F  \\\n",
       "0                0             0             0             0             0   \n",
       "1                0             0             0             0             1   \n",
       "2                0             1             0             0             0   \n",
       "3                0             1             0             0             0   \n",
       "4                0             0             0             0             1   \n",
       "...            ...           ...           ...           ...           ...   \n",
       "4272             0             0             0             0             0   \n",
       "4273             1             0             0             0             0   \n",
       "4274             0             0             1             0             0   \n",
       "4275             0             0             1             0             0   \n",
       "4276             0             0             0             0             0   \n",
       "\n",
       "      Cabin_deck_G  Cabin_deck_T  Cabin_side_P  Cabin_side_S  \n",
       "0                1             0             0             1  \n",
       "1                0             0             0             1  \n",
       "2                0             0             0             1  \n",
       "3                0             0             0             1  \n",
       "4                0             0             0             1  \n",
       "...            ...           ...           ...           ...  \n",
       "4272             1             0             0             1  \n",
       "4273             0             0             1             0  \n",
       "4274             0             0             1             0  \n",
       "4275             0             0             1             0  \n",
       "4276             1             0             0             1  \n",
       "\n",
       "[4277 rows x 26 columns]"
      ]
     },
     "execution_count": 66,
     "metadata": {},
     "output_type": "execute_result"
    }
   ],
   "source": [
    "pd.set_option(\"display.max_columns\", 30)\n",
    "test_data = test_data[cols]\n",
    "test_data"
   ]
  },
  {
   "cell_type": "code",
   "execution_count": 67,
   "id": "8e3af015",
   "metadata": {
    "execution": {
     "iopub.execute_input": "2022-09-02T15:51:47.198302Z",
     "iopub.status.busy": "2022-09-02T15:51:47.197818Z",
     "iopub.status.idle": "2022-09-02T15:51:47.204100Z",
     "shell.execute_reply": "2022-09-02T15:51:47.203196Z"
    },
    "papermill": {
     "duration": 0.032893,
     "end_time": "2022-09-02T15:51:47.206115",
     "exception": false,
     "start_time": "2022-09-02T15:51:47.173222",
     "status": "completed"
    },
    "tags": []
   },
   "outputs": [
    {
     "data": {
      "text/plain": [
       "(4277, 26)"
      ]
     },
     "execution_count": 67,
     "metadata": {},
     "output_type": "execute_result"
    }
   ],
   "source": [
    "test_data.shape"
   ]
  },
  {
   "cell_type": "code",
   "execution_count": 68,
   "id": "b02b377e",
   "metadata": {
    "execution": {
     "iopub.execute_input": "2022-09-02T15:51:47.256533Z",
     "iopub.status.busy": "2022-09-02T15:51:47.254511Z",
     "iopub.status.idle": "2022-09-02T15:51:47.261868Z",
     "shell.execute_reply": "2022-09-02T15:51:47.260884Z"
    },
    "papermill": {
     "duration": 0.034676,
     "end_time": "2022-09-02T15:51:47.263973",
     "exception": false,
     "start_time": "2022-09-02T15:51:47.229297",
     "status": "completed"
    },
    "tags": []
   },
   "outputs": [
    {
     "data": {
      "text/plain": [
       "(6954, 26)"
      ]
     },
     "execution_count": 68,
     "metadata": {},
     "output_type": "execute_result"
    }
   ],
   "source": [
    "X_train.shape"
   ]
  },
  {
   "cell_type": "code",
   "execution_count": 69,
   "id": "05abe52a",
   "metadata": {
    "execution": {
     "iopub.execute_input": "2022-09-02T15:51:47.314470Z",
     "iopub.status.busy": "2022-09-02T15:51:47.313521Z",
     "iopub.status.idle": "2022-09-02T15:51:47.328365Z",
     "shell.execute_reply": "2022-09-02T15:51:47.326113Z"
    },
    "papermill": {
     "duration": 0.042069,
     "end_time": "2022-09-02T15:51:47.330809",
     "exception": false,
     "start_time": "2022-09-02T15:51:47.288740",
     "status": "completed"
    },
    "tags": []
   },
   "outputs": [
    {
     "name": "stdout",
     "output_type": "stream",
     "text": [
      "<class 'pandas.core.frame.DataFrame'>\n",
      "RangeIndex: 4277 entries, 0 to 4276\n",
      "Data columns (total 26 columns):\n",
      " #   Column                     Non-Null Count  Dtype  \n",
      "---  ------                     --------------  -----  \n",
      " 0   CryoSleep                  4277 non-null   int64  \n",
      " 1   Age                        4277 non-null   float64\n",
      " 2   VIP                        4277 non-null   int64  \n",
      " 3   RoomService                4277 non-null   float64\n",
      " 4   FoodCourt                  4277 non-null   float64\n",
      " 5   ShoppingMall               4277 non-null   float64\n",
      " 6   Spa                        4277 non-null   float64\n",
      " 7   VRDeck                     4277 non-null   float64\n",
      " 8   HomePlanet_Earth           4277 non-null   uint8  \n",
      " 9   HomePlanet_Europa          4277 non-null   uint8  \n",
      " 10  HomePlanet_Mars            4277 non-null   uint8  \n",
      " 11  Destination_55 Cancri e    4277 non-null   uint8  \n",
      " 12  Destination_PSO J318.5-22  4277 non-null   uint8  \n",
      " 13  Destination_TRAPPIST-1e    4277 non-null   uint8  \n",
      " 14  Cabin_num                  4277 non-null   int64  \n",
      " 15  Expenses                   4277 non-null   float64\n",
      " 16  Cabin_deck_A               4277 non-null   uint8  \n",
      " 17  Cabin_deck_B               4277 non-null   uint8  \n",
      " 18  Cabin_deck_C               4277 non-null   uint8  \n",
      " 19  Cabin_deck_D               4277 non-null   uint8  \n",
      " 20  Cabin_deck_E               4277 non-null   uint8  \n",
      " 21  Cabin_deck_F               4277 non-null   uint8  \n",
      " 22  Cabin_deck_G               4277 non-null   uint8  \n",
      " 23  Cabin_deck_T               4277 non-null   uint8  \n",
      " 24  Cabin_side_P               4277 non-null   uint8  \n",
      " 25  Cabin_side_S               4277 non-null   uint8  \n",
      "dtypes: float64(7), int64(3), uint8(16)\n",
      "memory usage: 401.1 KB\n"
     ]
    }
   ],
   "source": [
    "test_data.info()"
   ]
  },
  {
   "cell_type": "markdown",
   "id": "2f5f7375",
   "metadata": {
    "papermill": {
     "duration": 0.023675,
     "end_time": "2022-09-02T15:51:47.378878",
     "exception": false,
     "start_time": "2022-09-02T15:51:47.355203",
     "status": "completed"
    },
    "tags": []
   },
   "source": [
    "### Scaling data using `StandardScaler`"
   ]
  },
  {
   "cell_type": "code",
   "execution_count": 70,
   "id": "10de7c50",
   "metadata": {
    "execution": {
     "iopub.execute_input": "2022-09-02T15:51:47.429741Z",
     "iopub.status.busy": "2022-09-02T15:51:47.429377Z",
     "iopub.status.idle": "2022-09-02T15:51:47.448420Z",
     "shell.execute_reply": "2022-09-02T15:51:47.447456Z"
    },
    "papermill": {
     "duration": 0.046923,
     "end_time": "2022-09-02T15:51:47.450597",
     "exception": false,
     "start_time": "2022-09-02T15:51:47.403674",
     "status": "completed"
    },
    "tags": []
   },
   "outputs": [
    {
     "data": {
      "text/plain": [
       "array([[-0.73173649,  1.88846818, -0.15296914, -0.33270064,  0.07279194,\n",
       "        -0.27768257, 13.45945185,  2.21793704, -1.09987433,  1.75254916,\n",
       "        -0.51080794,  1.96370702, -0.31341858, -1.54453524, -0.8381773 ,\n",
       "         6.17998876, -0.17989836, -0.31919523,  3.1906213 , -0.2440828 ,\n",
       "        -0.3445662 , -0.69024135, -0.65617821, -0.02682402, -0.9879927 ,\n",
       "         0.9879927 ],\n",
       "       [-0.73173649, -0.6113183 , -0.15296914, -0.33270064, -0.27019708,\n",
       "        -0.27610002,  0.35501789, -0.26222388,  0.90919478, -0.5705974 ,\n",
       "        -0.51080794, -0.50924094, -0.31341858,  0.64744395,  1.38686771,\n",
       "        -0.26264184, -0.17989836, -0.31919523, -0.31341858, -0.2440828 ,\n",
       "        -0.3445662 ,  1.44876861, -0.65617821, -0.02682402,  1.01215322,\n",
       "        -1.01215322],\n",
       "       [-0.73173649,  1.07971373, -0.15296914,  2.32668723, -0.28292395,\n",
       "        -0.20330269, -0.24604506, -0.26222388, -1.09987433, -0.5705974 ,\n",
       "         1.95768296, -0.50924094, -0.31341858,  0.64744395, -0.98846543,\n",
       "         0.16256673, -0.17989836, -0.31919523, -0.31341858, -0.2440828 ,\n",
       "        -0.3445662 ,  1.44876861, -0.65617821, -0.02682402, -0.9879927 ,\n",
       "         0.9879927 ],\n",
       "       [-0.73173649, -0.31722578, -0.15296914, -0.0625267 , -0.28292395,\n",
       "         0.47561155,  1.35889215, -0.21526121,  0.90919478, -0.5705974 ,\n",
       "        -0.51080794, -0.50924094, -0.31341858,  0.64744395,  0.58468043,\n",
       "         0.38850383, -0.17989836, -0.31919523, -0.31341858, -0.2440828 ,\n",
       "        -0.3445662 ,  1.44876861, -0.65617821, -0.02682402, -0.9879927 ,\n",
       "         0.9879927 ],\n",
       "       [ 1.36661219, -0.24370264, -0.15296914, -0.33270064, -0.28292395,\n",
       "        -0.27768257, -0.27217823, -0.26222388, -1.09987433,  1.75254916,\n",
       "        -0.51080794,  1.96370702, -0.31341858, -1.54453524, -0.51027593,\n",
       "        -0.5210101 , -0.17989836, -0.31919523,  3.1906213 , -0.2440828 ,\n",
       "        -0.3445662 , -0.69024135, -0.65617821, -0.02682402, -0.9879927 ,\n",
       "         0.9879927 ]])"
      ]
     },
     "execution_count": 70,
     "metadata": {},
     "output_type": "execute_result"
    }
   ],
   "source": [
    "scaler = StandardScaler()\n",
    "X_train = scaler.fit_transform(X_train)\n",
    "X_valid = scaler.transform(X_valid)\n",
    "\n",
    "X_train[:5, :]"
   ]
  },
  {
   "cell_type": "code",
   "execution_count": 71,
   "id": "29ddafac",
   "metadata": {
    "execution": {
     "iopub.execute_input": "2022-09-02T15:51:47.499547Z",
     "iopub.status.busy": "2022-09-02T15:51:47.498859Z",
     "iopub.status.idle": "2022-09-02T15:51:47.509896Z",
     "shell.execute_reply": "2022-09-02T15:51:47.508852Z"
    },
    "papermill": {
     "duration": 0.037537,
     "end_time": "2022-09-02T15:51:47.511929",
     "exception": false,
     "start_time": "2022-09-02T15:51:47.474392",
     "status": "completed"
    },
    "tags": []
   },
   "outputs": [
    {
     "data": {
      "text/plain": [
       "array([[ 1.36661219, -0.09665638, -0.15296914, -0.33270064, -0.28292395,\n",
       "        -0.27768257, -0.27217823, -0.26222388,  0.90919478, -0.5705974 ,\n",
       "        -0.51080794, -0.50924094, -0.31341858,  0.64744395, -1.1582715 ,\n",
       "        -0.5210101 , -0.17989836, -0.31919523, -0.31341858, -0.2440828 ,\n",
       "        -0.3445662 , -0.69024135,  1.52397624, -0.02682402, -0.9879927 ,\n",
       "         0.9879927 ],\n",
       "       [-0.73173649, -0.68484144, -0.15296914, -0.33270064, -0.27719686,\n",
       "        -0.27768257,  2.27175088, -0.26222388,  0.90919478, -0.5705974 ,\n",
       "        -0.51080794, -0.50924094, -0.31341858,  0.64744395, -1.15631971,\n",
       "         0.49949048, -0.17989836, -0.31919523, -0.31341858, -0.2440828 ,\n",
       "        -0.3445662 ,  1.44876861, -0.65617821, -0.02682402, -0.9879927 ,\n",
       "         0.9879927 ],\n",
       "       [ 1.36661219,  0.19743615, -0.15296914, -0.33270064, -0.28292395,\n",
       "        -0.27768257, -0.27217823, -0.26222388, -1.09987433,  1.75254916,\n",
       "        -0.51080794,  1.96370702, -0.31341858, -1.54453524, -1.16412688,\n",
       "        -0.5210101 , -0.17989836, -0.31919523,  3.1906213 , -0.2440828 ,\n",
       "        -0.3445662 , -0.69024135, -0.65617821, -0.02682402, -0.9879927 ,\n",
       "         0.9879927 ],\n",
       "       [-0.73173649,  0.71209807, -0.15296914, -0.33270064,  3.95003148,\n",
       "        -0.27768257, -0.10907119,  0.25613773, -1.09987433,  1.75254916,\n",
       "        -0.51080794, -0.50924094, -0.31341858,  0.64744395, -1.16217509,\n",
       "         2.15203838, -0.17989836, -0.31919523,  3.1906213 , -0.2440828 ,\n",
       "        -0.3445662 , -0.69024135, -0.65617821, -0.02682402, -0.9879927 ,\n",
       "         0.9879927 ],\n",
       "       [-0.73173649, -0.6113183 , -0.15296914, -0.31809665, -0.28292395,\n",
       "         0.72723711, -0.27217823, -0.26222388,  0.90919478, -0.5705974 ,\n",
       "        -0.51080794, -0.50924094, -0.31341858,  0.64744395, -1.15436791,\n",
       "        -0.28858677, -0.17989836, -0.31919523, -0.31341858, -0.2440828 ,\n",
       "        -0.3445662 ,  1.44876861, -0.65617821, -0.02682402, -0.9879927 ,\n",
       "         0.9879927 ]])"
      ]
     },
     "execution_count": 71,
     "metadata": {},
     "output_type": "execute_result"
    }
   ],
   "source": [
    "test_data = scaler.transform(test_data)\n",
    "test_data[:5, :]"
   ]
  },
  {
   "cell_type": "markdown",
   "id": "cc1cfaad",
   "metadata": {
    "papermill": {
     "duration": 0.023446,
     "end_time": "2022-09-02T15:51:47.559934",
     "exception": false,
     "start_time": "2022-09-02T15:51:47.536488",
     "status": "completed"
    },
    "tags": []
   },
   "source": [
    "### cross-validation on `XGBoost`"
   ]
  },
  {
   "cell_type": "code",
   "execution_count": 72,
   "id": "f0c405a5",
   "metadata": {
    "execution": {
     "iopub.execute_input": "2022-09-02T15:51:47.609509Z",
     "iopub.status.busy": "2022-09-02T15:51:47.608445Z",
     "iopub.status.idle": "2022-09-02T16:21:03.168879Z",
     "shell.execute_reply": "2022-09-02T16:21:03.167795Z"
    },
    "papermill": {
     "duration": 1755.609965,
     "end_time": "2022-09-02T16:21:03.193618",
     "exception": false,
     "start_time": "2022-09-02T15:51:47.583653",
     "status": "completed"
    },
    "tags": []
   },
   "outputs": [
    {
     "name": "stdout",
     "output_type": "stream",
     "text": [
      "Fitting 3 folds for each of 60 candidates, totalling 180 fits\n"
     ]
    },
    {
     "data": {
      "text/plain": [
       "GridSearchCV(cv=3,\n",
       "             estimator=XGBClassifier(base_score=None, booster=None,\n",
       "                                     callbacks=None, colsample_bylevel=None,\n",
       "                                     colsample_bynode=None,\n",
       "                                     colsample_bytree=None,\n",
       "                                     early_stopping_rounds=None,\n",
       "                                     enable_categorical=False, eval_metric=None,\n",
       "                                     gamma=None, gpu_id=0, grow_policy=None,\n",
       "                                     importance_type=None,\n",
       "                                     interaction_constraints=None,\n",
       "                                     learning_rate=None, max_bin=None,\n",
       "                                     max_cat_t...\n",
       "                                     max_delta_step=None, max_depth=None,\n",
       "                                     max_leaves=None, min_child_weight=None,\n",
       "                                     missing=nan, monotone_constraints=None,\n",
       "                                     n_estimators=100, n_jobs=None,\n",
       "                                     num_parallel_tree=None, predictor=None,\n",
       "                                     random_state=0, reg_alpha=None,\n",
       "                                     reg_lambda=None, ...),\n",
       "             n_jobs=-1,\n",
       "             param_grid={'learning_rate': [0.01, 0.03, 0.1, 0.3],\n",
       "                         'max_depth': [10, 15, 20],\n",
       "                         'n_estimators': [100, 300, 500, 750, 1000]},\n",
       "             verbose=1)"
      ]
     },
     "execution_count": 72,
     "metadata": {},
     "output_type": "execute_result"
    }
   ],
   "source": [
    "xgb_params = {\n",
    "    \"n_estimators\": [100, 300, 500, 750, 1000],\n",
    "    \"max_depth\": [10, 15, 20],\n",
    "    \"learning_rate\": [0.01, 0.03, 0.1, 0.3],\n",
    "}\n",
    "xgb_gs_model = GridSearchCV(XGBClassifier(random_state=0, tree_method='gpu_hist', gpu_id=0), xgb_params, cv=3, n_jobs=-1, verbose=1)\n",
    "xgb_gs_model.fit(X_train, y_train)"
   ]
  },
  {
   "cell_type": "code",
   "execution_count": 73,
   "id": "435d0afe",
   "metadata": {
    "execution": {
     "iopub.execute_input": "2022-09-02T16:21:03.316001Z",
     "iopub.status.busy": "2022-09-02T16:21:03.314886Z",
     "iopub.status.idle": "2022-09-02T16:21:03.343157Z",
     "shell.execute_reply": "2022-09-02T16:21:03.342131Z"
    },
    "papermill": {
     "duration": 0.127623,
     "end_time": "2022-09-02T16:21:03.345318",
     "exception": false,
     "start_time": "2022-09-02T16:21:03.217695",
     "status": "completed"
    },
    "tags": []
   },
   "outputs": [
    {
     "data": {
      "text/plain": [
       "0.8182863714778609"
      ]
     },
     "execution_count": 73,
     "metadata": {},
     "output_type": "execute_result"
    }
   ],
   "source": [
    "xgb_gs_model.score(X_valid, y_valid)"
   ]
  },
  {
   "cell_type": "code",
   "execution_count": 74,
   "id": "20d5d2e9",
   "metadata": {
    "execution": {
     "iopub.execute_input": "2022-09-02T16:21:03.399121Z",
     "iopub.status.busy": "2022-09-02T16:21:03.398188Z",
     "iopub.status.idle": "2022-09-02T16:21:03.473706Z",
     "shell.execute_reply": "2022-09-02T16:21:03.469297Z"
    },
    "papermill": {
     "duration": 0.104214,
     "end_time": "2022-09-02T16:21:03.476499",
     "exception": false,
     "start_time": "2022-09-02T16:21:03.372285",
     "status": "completed"
    },
    "tags": []
   },
   "outputs": [
    {
     "data": {
      "text/plain": [
       "array([1, 0, 1, 1, 1, 1, 1, 1, 1, 1])"
      ]
     },
     "execution_count": 74,
     "metadata": {},
     "output_type": "execute_result"
    }
   ],
   "source": [
    "xgb_gs_test_preds = xgb_gs_model.predict(test_data)\n",
    "xgb_gs_test_preds[:10]"
   ]
  },
  {
   "cell_type": "markdown",
   "id": "bb7158eb",
   "metadata": {
    "papermill": {
     "duration": 0.046542,
     "end_time": "2022-09-02T16:21:03.580534",
     "exception": false,
     "start_time": "2022-09-02T16:21:03.533992",
     "status": "completed"
    },
    "tags": []
   },
   "source": [
    "### Saving predictions\n",
    "- Logistic Regression: 79% accuracy `0.79354`\n",
    "- Knn: 77% acuracy `0.77601`\n",
    "- RandomForestClassifier: \n",
    "- - 79% accuracy `0.79752`\n",
    "- - 79% accuracy `0.79915`\n",
    "- XGBoost\n",
    "- - 80% accuracy `0.80149`"
   ]
  },
  {
   "cell_type": "code",
   "execution_count": 75,
   "id": "afeb8ae5",
   "metadata": {
    "execution": {
     "iopub.execute_input": "2022-09-02T16:21:03.659262Z",
     "iopub.status.busy": "2022-09-02T16:21:03.658789Z",
     "iopub.status.idle": "2022-09-02T16:21:03.666320Z",
     "shell.execute_reply": "2022-09-02T16:21:03.665355Z"
    },
    "papermill": {
     "duration": 0.051686,
     "end_time": "2022-09-02T16:21:03.669501",
     "exception": false,
     "start_time": "2022-09-02T16:21:03.617815",
     "status": "completed"
    },
    "tags": []
   },
   "outputs": [],
   "source": [
    "output = pd.DataFrame({\"PassengerId\": index, \"Transported\": xgb_gs_test_preds})"
   ]
  },
  {
   "cell_type": "code",
   "execution_count": 76,
   "id": "acf0a756",
   "metadata": {
    "execution": {
     "iopub.execute_input": "2022-09-02T16:21:03.761093Z",
     "iopub.status.busy": "2022-09-02T16:21:03.760706Z",
     "iopub.status.idle": "2022-09-02T16:21:03.772904Z",
     "shell.execute_reply": "2022-09-02T16:21:03.771922Z"
    },
    "papermill": {
     "duration": 0.053269,
     "end_time": "2022-09-02T16:21:03.775591",
     "exception": false,
     "start_time": "2022-09-02T16:21:03.722322",
     "status": "completed"
    },
    "tags": []
   },
   "outputs": [],
   "source": [
    "output[\"Transported\"].replace({0:False, 1:True}, inplace=True)"
   ]
  },
  {
   "cell_type": "code",
   "execution_count": 77,
   "id": "4950d764",
   "metadata": {
    "execution": {
     "iopub.execute_input": "2022-09-02T16:21:03.855645Z",
     "iopub.status.busy": "2022-09-02T16:21:03.855162Z",
     "iopub.status.idle": "2022-09-02T16:21:03.872613Z",
     "shell.execute_reply": "2022-09-02T16:21:03.871588Z"
    },
    "papermill": {
     "duration": 0.06105,
     "end_time": "2022-09-02T16:21:03.875382",
     "exception": false,
     "start_time": "2022-09-02T16:21:03.814332",
     "status": "completed"
    },
    "tags": []
   },
   "outputs": [],
   "source": [
    "output.to_csv(\"./submission_7.csv\", index=False)"
   ]
  }
 ],
 "metadata": {
  "kernelspec": {
   "display_name": "Python 3",
   "language": "python",
   "name": "python3"
  },
  "language_info": {
   "codemirror_mode": {
    "name": "ipython",
    "version": 3
   },
   "file_extension": ".py",
   "mimetype": "text/x-python",
   "name": "python",
   "nbconvert_exporter": "python",
   "pygments_lexer": "ipython3",
   "version": "3.7.12"
  },
  "papermill": {
   "default_parameters": {},
   "duration": 1774.493466,
   "end_time": "2022-09-02T16:21:06.561471",
   "environment_variables": {},
   "exception": null,
   "input_path": "__notebook__.ipynb",
   "output_path": "__notebook__.ipynb",
   "parameters": {},
   "start_time": "2022-09-02T15:51:32.068005",
   "version": "2.3.4"
  }
 },
 "nbformat": 4,
 "nbformat_minor": 5
}
